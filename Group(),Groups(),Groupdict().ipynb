{
  "nbformat": 4,
  "nbformat_minor": 0,
  "metadata": {
    "colab": {
      "provenance": [],
      "authorship_tag": "ABX9TyOy8Pw+thIDGeRR9Im+AwTV",
      "include_colab_link": true
    },
    "kernelspec": {
      "name": "python3",
      "display_name": "Python 3"
    },
    "language_info": {
      "name": "python"
    }
  },
  "cells": [
    {
      "cell_type": "markdown",
      "metadata": {
        "id": "view-in-github",
        "colab_type": "text"
      },
      "source": [
        "<a href=\"https://colab.research.google.com/github/Shrinivas18/HackerRank_Solutions_/blob/main/Group()%2CGroups()%2CGroupdict().ipynb\" target=\"_parent\"><img src=\"https://colab.research.google.com/assets/colab-badge.svg\" alt=\"Open In Colab\"/></a>"
      ]
    },
    {
      "cell_type": "markdown",
      "source": [
        "**PROBLEM**\n",
        "\n",
        "group()\n",
        "A group() expression returns one or more subgroups of the match.\n",
        "Code :\n",
        ">>> import re\n",
        ">>> m = re.match(r'(\\w+)@(\\w+)\\.(\\w+)','username@hackerrank.com')\n",
        ">>> m.group(0)       # The entire match \n",
        "'username@hackerrank.com'\n",
        ">>> m.group(1)       # The first parenthesized subgroup.\n",
        "'username'\n",
        ">>> m.group(2)       # The second parenthesized subgroup.\n",
        "'hackerrank'\n",
        ">>> m.group(3)       # The third parenthesized subgroup.\n",
        "'com'\n",
        ">>> m.group(1,2,3)   # Multiple arguments give us a tuple.\n",
        "('username', 'hackerrank', 'com')\n",
        "\n",
        "groups()\n",
        "A groups() expression returns a tuple containing all the subgroups of the match.\n",
        "Code :\n",
        ">>> import re\n",
        ">>> m = re.match(r'(\\w+)@(\\w+)\\.(\\w+)','username@hackerrank.com')\n",
        ">>> m.groups()\n",
        "('username', 'hackerrank', 'com')\n",
        "\n",
        "groupdict()\n",
        "A groupdict() expression returns a dictionary containing all the named subgroups of the match, keyed by the subgroup name.\n",
        "Code :\n",
        ">>> m = re.match(r'(?P<user>\\w+)@(?P<website>\\w+)\\.(?P<extension>\\w+)','myname@hackerrank.com')\n",
        ">>> m.groupdict()\n",
        "{'website': 'hackerrank', 'user': 'myname', 'extension': 'com'}\n",
        "\n",
        "Task :\n",
        "You are given a string S.\n",
        "Your task is to find the first occurrence of an alphanumeric character in S(read from left to right) that has consecutive repetitions.\n",
        "\n",
        "\n",
        "Input Format :\n",
        "A single line of input containing the string S.\n",
        "\n",
        "Constraints :\n",
        "0 < len(S) < 100\n",
        "\n",
        "Output Format :\n",
        "Print the first occurrence of the repeating character. If there are no repeating characters, print -1.\n",
        "\n",
        "\n",
        "Sample Input :\n",
        "..12345678910111213141516171820212223\n",
        "\n",
        "Sample Output :\n",
        "1\n",
        "\n",
        "Explanation :\n",
        ".. is the first repeating character, but it is not alphanumeric.\n",
        "1 is the first (from left to right) alphanumeric repeating character of the string in the substring 111.\n"
      ],
      "metadata": {
        "id": "_ArP0gXALW3L"
      }
    },
    {
      "cell_type": "code",
      "source": [
        "import re\n",
        "\n",
        "expression=r\"([a-zA-Z0-9])\\1+\"\n",
        "\n",
        "m = re.search(expression,input())\n",
        "\n",
        "if m:\n",
        "    print(m.group(1))\n",
        "else:\n",
        "    print(-1)"
      ],
      "metadata": {
        "colab": {
          "base_uri": "https://localhost:8080/"
        },
        "id": "b5h2c9qqllSo",
        "outputId": "699a5950-742f-40a8-be85-1ff9a58371e0"
      },
      "execution_count": 4,
      "outputs": [
        {
          "output_type": "stream",
          "name": "stdout",
          "text": [
            "12345678910111213141516171820212223\n",
            "1\n"
          ]
        }
      ]
    }
  ]
}