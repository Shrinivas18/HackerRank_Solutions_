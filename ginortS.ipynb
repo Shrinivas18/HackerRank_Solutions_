{
  "nbformat": 4,
  "nbformat_minor": 0,
  "metadata": {
    "colab": {
      "provenance": [],
      "authorship_tag": "ABX9TyNIy9F2QjlRogbAp3wFVhV2",
      "include_colab_link": true
    },
    "kernelspec": {
      "name": "python3",
      "display_name": "Python 3"
    },
    "language_info": {
      "name": "python"
    }
  },
  "cells": [
    {
      "cell_type": "markdown",
      "metadata": {
        "id": "view-in-github",
        "colab_type": "text"
      },
      "source": [
        "<a href=\"https://colab.research.google.com/github/Shrinivas18/HackerRank_Solutions_/blob/main/ginortS.ipynb\" target=\"_parent\"><img src=\"https://colab.research.google.com/assets/colab-badge.svg\" alt=\"Open In Colab\"/></a>"
      ]
    },
    {
      "cell_type": "markdown",
      "source": [
        "***PROBLEM*** :\n",
        "\n",
        "You are given a string S.\n",
        "S contains alphanumeric characters only.\n",
        "\n",
        "Your task is to sort the string  in the following manner:\n",
        "\n",
        "All sorted lowercase letters are ahead of uppercase letters.\n",
        "All sorted uppercase letters are ahead of digits.\n",
        "All sorted odd digits are ahead of sorted even digits.\n",
        "Input format:\n",
        "\n",
        "A single line of input contains the string S.\n",
        "\n",
        "Constraint:\n",
        "0 < len(S) < 1000\n",
        "\n",
        "Output Format:\n",
        "\n",
        "Output the sorted string S.\n",
        "\n",
        "Sample Input:\n",
        "\n",
        "python\n",
        "\n",
        "Sorting1234\n",
        "\n",
        "Sample Output:\n",
        "\n",
        "bash\n",
        "\n",
        "ginortS1324\n",
        " "
      ],
      "metadata": {
        "id": "O-eKXuZ2iqIO"
      }
    },
    {
      "cell_type": "code",
      "source": [
        "def f(c):\n",
        "    code = 0\n",
        "    if c.isupper():\n",
        "        code = 10 ** 3\n",
        "    elif c.isdigit():\n",
        "        code = 10 ** 6\n",
        "        if ord(c) % 2 == 0:\n",
        "            code = 10 ** 9\n",
        "    return code + ord(c)\n",
        "\n",
        "print(*sorted(input(), key=lambda c: f(c)), sep='')"
      ],
      "metadata": {
        "colab": {
          "base_uri": "https://localhost:8080/"
        },
        "id": "b5h2c9qqllSo",
        "outputId": "79978e93-a63c-49ce-caa3-b58298e837f8"
      },
      "execution_count": 15,
      "outputs": [
        {
          "output_type": "stream",
          "name": "stdout",
          "text": [
            "Sorting1234\n",
            "ginortS1324\n"
          ]
        }
      ]
    }
  ]
}