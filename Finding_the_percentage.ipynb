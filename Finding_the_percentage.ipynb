{
  "nbformat": 4,
  "nbformat_minor": 0,
  "metadata": {
    "colab": {
      "provenance": [],
      "authorship_tag": "ABX9TyO4nnZCvaj5trgzkWv4lA2e",
      "include_colab_link": true
    },
    "kernelspec": {
      "name": "python3",
      "display_name": "Python 3"
    },
    "language_info": {
      "name": "python"
    }
  },
  "cells": [
    {
      "cell_type": "markdown",
      "metadata": {
        "id": "view-in-github",
        "colab_type": "text"
      },
      "source": [
        "<a href=\"https://colab.research.google.com/github/Shrinivas18/HackerRank_Solutions_/blob/main/Finding_the_percentage.ipynb\" target=\"_parent\"><img src=\"https://colab.research.google.com/assets/colab-badge.svg\" alt=\"Open In Colab\"/></a>"
      ]
    },
    {
      "cell_type": "markdown",
      "source": [
        "**PROBLEM** : The provided code stub is read in a dictionary containing key/value pairs of name:[Marks] for a list of students. Print the average of the marks array for the student name is provided, showing 2 places after the decimal.\n"
      ],
      "metadata": {
        "id": "MYHl45tpH3cR"
      }
    },
    {
      "cell_type": "code",
      "source": [
        "if __name__ == '__main__':\n",
        "\n",
        "    n = int(input())\n",
        "\n",
        "    student_marks = {}\n",
        "\n",
        "    for _ in range(n):\n",
        "\n",
        "        name, *line = input().split()\n",
        "\n",
        "        scores = list(map(float, line))\n",
        "\n",
        "        student_marks[name] = scores\n",
        "\n",
        "    query_name = input()\n",
        "\n",
        "    l1 = list(student_marks[query_name]) \n",
        "\n",
        "    addition = sum(l1)\n",
        "\n",
        "    result = addition/len(l1)\n",
        "\n",
        "    print('%.2f'% result)\n"
      ],
      "metadata": {
        "colab": {
          "base_uri": "https://localhost:8080/"
        },
        "id": "b5h2c9qqllSo",
        "outputId": "dfbcee67-e1c6-4130-86a8-dff44b1a5a6e"
      },
      "execution_count": 37,
      "outputs": [
        {
          "output_type": "stream",
          "name": "stdout",
          "text": [
            "3\n",
            "Krishna 67 68 69\n",
            "Arjun 70 98 63\n",
            "Malika 52 56 60\n",
            "Malika\n",
            "56.00\n"
          ]
        }
      ]
    }
  ]
}