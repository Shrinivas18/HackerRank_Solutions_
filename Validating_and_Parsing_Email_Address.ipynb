{
  "nbformat": 4,
  "nbformat_minor": 0,
  "metadata": {
    "colab": {
      "provenance": [],
      "authorship_tag": "ABX9TyPsQUIS4Wiijn2WMCacQkYC",
      "include_colab_link": true
    },
    "kernelspec": {
      "name": "python3",
      "display_name": "Python 3"
    },
    "language_info": {
      "name": "python"
    }
  },
  "cells": [
    {
      "cell_type": "markdown",
      "metadata": {
        "id": "view-in-github",
        "colab_type": "text"
      },
      "source": [
        "<a href=\"https://colab.research.google.com/github/Shrinivas18/HackerRank_Solutions_/blob/main/Validating_and_Parsing_Email_Address.ipynb\" target=\"_parent\"><img src=\"https://colab.research.google.com/assets/colab-badge.svg\" alt=\"Open In Colab\"/></a>"
      ]
    },
    {
      "cell_type": "markdown",
      "source": [
        "**PROBLEM** :\n",
        "\n",
        "A valid email address meets the following criteria:\n",
        "It's composed of a username, domain name, and extension assembled in this format: username@domain.extension\n",
        "The username starts with an English alphabetical character, and any subsequent characters consist of one or more of the following: alphanumeric characters, -,., and _.\n",
        "The domain and extension contain only English alphabetical characters.\n",
        "The extension is 1, 2, or 3 characters in length.\n",
        "Given n pairs of names and email addresses as input, print each name and email address pair having a valid email address on a new line.\n",
        "\n",
        "Hint : Try using Email.utils() to complete this challenge. For example, this code:\n",
        "import email.utils\n",
        "print email.utils.parseaddr('DOSHI <DOSHI@hackerrank.com>')\n",
        "print email.utils.formataddr(('DOSHI', 'DOSHI@hackerrank.com'))\n",
        "\n",
        "produces this output:\n",
        "('DOSHI', 'DOSHI@hackerrank.com')\n",
        "DOSHI <DOSHI@hackerrank.com>"
      ],
      "metadata": {
        "id": "_ArP0gXALW3L"
      }
    },
    {
      "cell_type": "code",
      "source": [
        "import re\n",
        "\n",
        "N = int(input())\n",
        "\n",
        "for i in range(N):\n",
        "    name, email = input().split()\n",
        "    pattern=\"<[a-z][a-zA-Z0-9\\-\\.\\_]+@[a-zA-Z]+\\.[a-zA-Z]{1,3}>\"\n",
        "    if bool(re.match(pattern, email)):\n",
        "        print(name,email)"
      ],
      "metadata": {
        "colab": {
          "base_uri": "https://localhost:8080/"
        },
        "id": "b5h2c9qqllSo",
        "outputId": "82bd4182-4afa-413a-f9c9-05b4ef99101b"
      },
      "execution_count": 7,
      "outputs": [
        {
          "name": "stdout",
          "output_type": "stream",
          "text": [
            "2\n",
            "Shrinivas <jshrinivas1996@gmail.com>\n",
            "Shrinivas <jshrinivas1996@gmail.com>\n",
            "VIRUS <virus!@variable.:p>\n"
          ]
        }
      ]
    }
  ]
}