{
  "nbformat": 4,
  "nbformat_minor": 0,
  "metadata": {
    "colab": {
      "provenance": [],
      "authorship_tag": "ABX9TyNpIGcMjWs7mh3q+5ys1yxB",
      "include_colab_link": true
    },
    "kernelspec": {
      "name": "python3",
      "display_name": "Python 3"
    },
    "language_info": {
      "name": "python"
    }
  },
  "cells": [
    {
      "cell_type": "markdown",
      "metadata": {
        "id": "view-in-github",
        "colab_type": "text"
      },
      "source": [
        "<a href=\"https://colab.research.google.com/github/Shrinivas18/HackerRank_Solutions_/blob/main/Floor_Ceil_and_Rent.ipynb\" target=\"_parent\"><img src=\"https://colab.research.google.com/assets/colab-badge.svg\" alt=\"Open In Colab\"/></a>"
      ]
    },
    {
      "cell_type": "markdown",
      "source": [
        "**PROBLEM**\n",
        "\n",
        "floor\n",
        "\n",
        "The tool floor returns the floor of the input element-wise.\n",
        "The floor of x is the largest integer i where i <= x.\n",
        "\n",
        "import numpy\n",
        "\n",
        "my_array = numpy.array([1.1, 2.2, 3.3, 4.4, 5.5, 6.6, 7.7, 8.8, 9.9])\n",
        "print numpy.floor(my_array)         #[ 1.  2.  3.  4.  5.  6.  7.  8.  9.]\n",
        " \n",
        "ceil\n",
        "\n",
        "\n",
        "The tool ceil returns the ceiling of the input element-wise.\n",
        "The ceiling x of is the smallest integer i where i >= x.\n",
        "import numpy\n",
        "\n",
        "my_array = numpy.array([1.1, 2.2, 3.3, 4.4, 5.5, 6.6, 7.7, 8.8, 9.9])\n",
        "print numpy.ceil(my_array)          #[  2.   3.   4.   5.   6.   7.   8.   9.  10.]\n",
        " \n",
        "rint\n",
        "\n",
        "\n",
        "The rint tool rounds to the nearest integer of input element-wise.\n",
        "import numpy\n",
        "\n",
        "my_array = numpy.array([1.1, 2.2, 3.3, 4.4, 5.5, 6.6, 7.7, 8.8, 9.9])\n",
        "print numpy.rint(my_array)          #[  1.   2.   3.   4.   6.   7.   8.   9.  10.]\n",
        " \n",
        "Task :\n",
        "\n",
        "\n",
        "You are given a 1-D array, A. Your task is to print the floor, celi and rint of all the elements of A.\n",
        "\n",
        "\n",
        "Input Format :\n",
        "\n",
        "\n",
        "A single line of input containing the space separated elements of array A.\n",
        " \n",
        "Output Format :\n",
        "On the first line, print the Floor of A.\n",
        "On the second line, print the Ceil of A.\n",
        "On the third line, print the Rint of A.\n",
        "\n",
        "\n",
        "Sample Input :\n",
        "\n",
        "\n",
        "1.1 2.2 3.3 4.4 5.5 6.6 7.7 8.8 9.9\n",
        " \n",
        "Sample Output :\n",
        "[ 1.  2.  3.  4.  5.  6.  7.  8.  9.]\n",
        "[  2.   3.   4.   5.   6.   7.   8.   9.  10.]\n",
        "[  1.   2.   3.   4.   6.   7.   8.   9.  10.]\n",
        " "
      ],
      "metadata": {
        "id": "_ArP0gXALW3L"
      }
    },
    {
      "cell_type": "code",
      "source": [
        "import numpy\n",
        "\n",
        "numpy.set_printoptions(sign=' ')\n",
        "\n",
        "array = numpy.array(input().split(),float)\n",
        "\n",
        "print(numpy.floor(array))\n",
        "print(numpy.ceil(array))\n",
        "print(numpy.rint(array))"
      ],
      "metadata": {
        "colab": {
          "base_uri": "https://localhost:8080/"
        },
        "id": "b5h2c9qqllSo",
        "outputId": "e4c4147a-20c4-4e8b-a77d-7911819bd77d"
      },
      "execution_count": 7,
      "outputs": [
        {
          "output_type": "stream",
          "name": "stdout",
          "text": [
            "1.1 2.2 3.3 4.4 5.5 6.6 7.7 8.8 9.9\n",
            "[ 1.  2.  3.  4.  5.  6.  7.  8.  9.]\n",
            "[  2.   3.   4.   5.   6.   7.   8.   9.  10.]\n",
            "[  1.   2.   3.   4.   6.   7.   8.   9.  10.]\n"
          ]
        }
      ]
    }
  ]
}