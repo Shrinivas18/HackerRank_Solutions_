{
  "nbformat": 4,
  "nbformat_minor": 0,
  "metadata": {
    "colab": {
      "provenance": [],
      "authorship_tag": "ABX9TyOZRIL/J104sf3Ih+oci8eF",
      "include_colab_link": true
    },
    "kernelspec": {
      "name": "python3",
      "display_name": "Python 3"
    },
    "language_info": {
      "name": "python"
    }
  },
  "cells": [
    {
      "cell_type": "markdown",
      "metadata": {
        "id": "view-in-github",
        "colab_type": "text"
      },
      "source": [
        "<a href=\"https://colab.research.google.com/github/Shrinivas18/HackerRank_Solutions_/blob/main/Linear_Algebra.ipynb\" target=\"_parent\"><img src=\"https://colab.research.google.com/assets/colab-badge.svg\" alt=\"Open In Colab\"/></a>"
      ]
    },
    {
      "cell_type": "markdown",
      "source": [
        "**PROBLEM**\n",
        "\n",
        "The NumPy module also comes with a number of built-in routines for linear algebra calculations. These can be found in the sub-module linalg.\n",
        " \n",
        "linalg.det \n",
        "The linalg.det tool computes the determinant of an array.\n",
        "print numpy.linalg.det([[1 , 2], [2, 1]])       #Output : -3.0\n",
        "\n",
        "linalg.eig\n",
        "The linalg.eig computes the eigenvalues and right eigenvectors of a square array.\n",
        "vals, vecs = numpy.linalg.eig([[1 , 2], [2, 1]])\n",
        "print vals                                      #Output : [ 3. -1.]\n",
        "print vecs                                      #Output : [[ 0.70710678 -0.70710678]\n",
        "                                                #          [ 0.70710678  0.70710678]]\n",
        "\n",
        "linalg.inv\n",
        "The linalg.inv tool computes the (multiplicative) inverse of a matrix.\n",
        "print numpy.linalg.inv([[1 , 2], [2, 1]])       #Output : [[-0.33333333  0.66666667]\n",
        "                                                #          [ 0.66666667 -0.33333333]]\n",
        " \n",
        "Other routines can be found here \n",
        " \n",
        "Task :\n",
        "You are given a square matrix A with dimensions NXN. Your task is to find the determinant. Note: Round the answer to 2 places after the decimal.\n",
        "\n",
        "\n",
        "Input Format :\n",
        "The first line contains the integer N.\n",
        "The next N lines contains the N space separated elements of array A.\n",
        " \n",
        "Output Format :\n",
        "Print the determinant of A.\n",
        "\n",
        "\n",
        "Sample Input :\n",
        "2\n",
        "1.1 1.1\n",
        "1.1 1.1\n",
        " \n",
        "Sample Output :\n",
        "0.0"
      ],
      "metadata": {
        "id": "_ArP0gXALW3L"
      }
    },
    {
      "cell_type": "code",
      "source": [
        "import numpy\n",
        "N = int(input())\n",
        "A = numpy.array([input().split() for _ in range(N)], float)\n",
        "print(round(numpy.linalg.det(A),2))"
      ],
      "metadata": {
        "colab": {
          "base_uri": "https://localhost:8080/"
        },
        "id": "b5h2c9qqllSo",
        "outputId": "6f0fe2cc-8e19-4817-9042-6646f47e7773"
      },
      "execution_count": 16,
      "outputs": [
        {
          "output_type": "stream",
          "name": "stdout",
          "text": [
            "2\n",
            "1.1 1.1\n",
            "1.1 1.1\n",
            "0.0\n"
          ]
        }
      ]
    }
  ]
}