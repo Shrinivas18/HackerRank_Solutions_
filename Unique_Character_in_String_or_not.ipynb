{
  "cells": [
    {
      "cell_type": "markdown",
      "metadata": {
        "id": "view-in-github",
        "colab_type": "text"
      },
      "source": [
        "<a href=\"https://colab.research.google.com/github/Shrinivas18/HackerRank_Solutions_/blob/main/Unique_Character_in_String_or_not.ipynb\" target=\"_parent\"><img src=\"https://colab.research.google.com/assets/colab-badge.svg\" alt=\"Open In Colab\"/></a>"
      ]
    },
    {
      "cell_type": "markdown",
      "metadata": {
        "id": "4hHQpomzpne_"
      },
      "source": [
        "**Project** : Python Program For Chocolate Distribution Problem.\n",
        "\n",
        "Given an array of n integers where each value represents the number of chocolates in a packet. Each packet can have a variable number of chocolates. There are m students, the task is to distribute chocolate packets such that: \n",
        "\n",
        "Each student gets one packet.\n",
        "The difference between the number of chocolates in the packet with maximum chocolates and packet with minimum chocolates given to the students is minimum.\n",
        "\n"
      ]
    },
    {
      "cell_type": "code",
      "execution_count": 8,
      "metadata": {
        "colab": {
          "base_uri": "https://localhost:8080/"
        },
        "id": "kWtlhblZpoDK",
        "outputId": "f5caff08-f3c2-477e-9295-ebd6d157af80"
      },
      "outputs": [
        {
          "output_type": "stream",
          "name": "stdout",
          "text": [
            "Minimum difference is 10\n"
          ]
        }
      ],
      "source": [
        "def findMinDiff(arr, n, m):\n",
        "    if (m==0 or n==0):\n",
        "        return 0\n",
        " \n",
        "    arr.sort()\n",
        " \n",
        "    if (n < m):\n",
        "        return -1\n",
        " \n",
        "    min_diff = arr[n-1] - arr[0]\n",
        " \n",
        "    for i in range(len(arr) - m + 1):\n",
        "        min_diff = min(min_diff , \n",
        "                       arr[i + m - 1] - arr[i])   \n",
        "         \n",
        "    return min_diff\n",
        " \n",
        "if __name__ == \"__main__\":\n",
        "    arr = [12, 4, 7, 9, 2, 23, 25, 41,\n",
        "           30, 40, 28, 42, 30, 44, 48,\n",
        "           43, 50]\n",
        " \n",
        "    m = 7\n",
        "    n = len(arr)\n",
        "    print(\"Minimum difference is\",\n",
        "           findMinDiff(arr, n, m))"
      ]
    }
  ],
  "metadata": {
    "colab": {
      "provenance": [],
      "authorship_tag": "ABX9TyPfGOzNxJ9onfy8Fv3EgAGk",
      "include_colab_link": true
    },
    "kernelspec": {
      "display_name": "Python 3",
      "name": "python3"
    },
    "language_info": {
      "name": "python"
    }
  },
  "nbformat": 4,
  "nbformat_minor": 0
}