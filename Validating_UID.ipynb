{
  "nbformat": 4,
  "nbformat_minor": 0,
  "metadata": {
    "colab": {
      "provenance": [],
      "authorship_tag": "ABX9TyP29S3xlR2RdvPoUWfbBpk0",
      "include_colab_link": true
    },
    "kernelspec": {
      "name": "python3",
      "display_name": "Python 3"
    },
    "language_info": {
      "name": "python"
    }
  },
  "cells": [
    {
      "cell_type": "markdown",
      "metadata": {
        "id": "view-in-github",
        "colab_type": "text"
      },
      "source": [
        "<a href=\"https://colab.research.google.com/github/Shrinivas18/HackerRank_Solutions_/blob/main/Validating_UID.ipynb\" target=\"_parent\"><img src=\"https://colab.research.google.com/assets/colab-badge.svg\" alt=\"Open In Colab\"/></a>"
      ]
    },
    {
      "cell_type": "markdown",
      "source": [
        "**PROBLEM** :\n",
        "\n",
        "\n",
        "ABCXYZ company has up to 100 employees.\n",
        "The company decides to create a unique identification number (UID) for each of its employees.\n",
        "The company has assigned you the task of validating all the randomly generated UIDs.\n",
        "A valid UID must follow the rules below:\n",
        "It must contain at least 2 uppercase English alphabet characters.\n",
        "It must contain at least 3 digits ( 0 - 9).\n",
        "It should only contain alphanumeric characters ( a - z, A - Z & 0 - 9).\n",
        "No character should repeat.\n",
        "There must be exactly 10 characters in a valid UID.\n",
        "\n",
        "\n",
        "Input Format :\n",
        "The first line contains an integer T, the number of test cases.\n",
        "The next T lines contains an employee's UID.\n",
        "\n",
        "Output Format :\n",
        "For each test case, print 'Valid' if the UID is valid. Otherwise, print 'Invalid', on separate lines. Do not print the quotation marks.\n",
        "\n",
        "\n",
        "Sample Input :\n",
        "2\n",
        "B1CD102354\n",
        "B1CDEF2354\n",
        " \n",
        "Sample Output :\n",
        "Invalid\n",
        "Valid\n",
        " \n",
        "Explanation :\n",
        "B1CD102354: 1 is repeating → Invalid\n",
        "B1CDEF2354: Valid "
      ],
      "metadata": {
        "id": "_ArP0gXALW3L"
      }
    },
    {
      "cell_type": "code",
      "source": [
        "import re\n",
        "\n",
        "for i in range(int(input())):\n",
        "    N = input().strip()\n",
        "    if N.isalnum() and len(N) == 10:\n",
        "        if bool(re.search(r'(.*[A-Z]){2,}',N)) and bool(re.search(r'(.*[0-9]){3,}',N)):\n",
        "            if re.search(r'.*(.).*\\1+.*',N):\n",
        "                print('Invalid')\n",
        "            else:\n",
        "                print('Valid')\n",
        "        else:\n",
        "            print('Invalid')\n",
        "    else:\n",
        "        print('Invalid')"
      ],
      "metadata": {
        "colab": {
          "base_uri": "https://localhost:8080/"
        },
        "id": "b5h2c9qqllSo",
        "outputId": "31551c7c-f6bc-4e8d-9997-4558d07ccf71"
      },
      "execution_count": 2,
      "outputs": [
        {
          "output_type": "stream",
          "name": "stdout",
          "text": [
            "2\n",
            "B1CD102354\n",
            "Invalid\n",
            "B1CDEF2354\n",
            "Valid\n"
          ]
        }
      ]
    }
  ]
}