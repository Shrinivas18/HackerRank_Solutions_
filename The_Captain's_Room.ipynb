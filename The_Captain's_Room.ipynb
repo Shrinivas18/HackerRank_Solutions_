{
  "nbformat": 4,
  "nbformat_minor": 0,
  "metadata": {
    "colab": {
      "provenance": [],
      "authorship_tag": "ABX9TyOtODzrpArHpYCAcLUQeTUI",
      "include_colab_link": true
    },
    "kernelspec": {
      "name": "python3",
      "display_name": "Python 3"
    },
    "language_info": {
      "name": "python"
    }
  },
  "cells": [
    {
      "cell_type": "markdown",
      "metadata": {
        "id": "view-in-github",
        "colab_type": "text"
      },
      "source": [
        "<a href=\"https://colab.research.google.com/github/Shrinivas18/HackerRank_Solutions_/blob/main/The_Captain's_Room.ipynb\" target=\"_parent\"><img src=\"https://colab.research.google.com/assets/colab-badge.svg\" alt=\"Open In Colab\"/></a>"
      ]
    },
    {
      "cell_type": "markdown",
      "source": [
        "**PROBLEM** :\n",
        "\n",
        "Mr. Anant Asankhya is the manager at the INFINITE hotel. The hotel has an infinite amount of rooms.\n",
        "\n",
        "One fine day, a finite number of tourists come to stay at the hotel.\n",
        "The tourists consist of:\n",
        "→ A Captain.\n",
        "→ An unknown group of families consisting of K members per group where K ≠ 1.\n",
        "\n",
        "The Captain was given a separate room, and the rest were given one room per group.\n",
        "Mr. Anant has an unordered list of randomly arranged room entries. The list consists of the room numbers for all of the tourists. The room numbers will appear\n",
        "K times per group except for the Captain's room.\n",
        "Mr. Anant needs you to help him find the Captain's room number.\n",
        "The total number of tourists or the total number of groups of families is not known to you.\n",
        "You only know the value of K and the room number list."
      ],
      "metadata": {
        "id": "_ArP0gXALW3L"
      }
    },
    {
      "cell_type": "code",
      "source": [
        "N = int(input())\n",
        "\n",
        "storage = map(int, input().split())\n",
        "storage = sorted(storage)\n",
        "\n",
        "for i in range(len(storage)):\n",
        "    if(i != len(storage)-1):\n",
        "        if(storage[i]!=storage[i-1] and storage[i]!=storage[i+1]):\n",
        "            print(storage[i])\n",
        "            break;\n",
        "    else:\n",
        "        print(storage[i])"
      ],
      "metadata": {
        "colab": {
          "base_uri": "https://localhost:8080/"
        },
        "id": "b5h2c9qqllSo",
        "outputId": "9b604f33-aed8-44de-8d62-02dee0d6553f"
      },
      "execution_count": 5,
      "outputs": [
        {
          "output_type": "stream",
          "name": "stdout",
          "text": [
            "5\n",
            "1 2 3 6 5 4 4 2 5 3 6 1 6 5 3 2 4 1 2 5 1 4 3 6 8 4 3 1 5 6 2\n",
            "8\n"
          ]
        }
      ]
    }
  ]
}