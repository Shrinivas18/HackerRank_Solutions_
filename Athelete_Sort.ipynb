{
  "nbformat": 4,
  "nbformat_minor": 0,
  "metadata": {
    "colab": {
      "provenance": [],
      "authorship_tag": "ABX9TyPmlv5pkR/ik9DGe+pm+3QK",
      "include_colab_link": true
    },
    "kernelspec": {
      "name": "python3",
      "display_name": "Python 3"
    },
    "language_info": {
      "name": "python"
    }
  },
  "cells": [
    {
      "cell_type": "markdown",
      "metadata": {
        "id": "view-in-github",
        "colab_type": "text"
      },
      "source": [
        "<a href=\"https://colab.research.google.com/github/Shrinivas18/HackerRank_Solutions_/blob/main/Athelete_Sort.ipynb\" target=\"_parent\"><img src=\"https://colab.research.google.com/assets/colab-badge.svg\" alt=\"Open In Colab\"/></a>"
      ]
    },
    {
      "cell_type": "markdown",
      "source": [
        "***PROBLEM*** :\n",
        "\n",
        "In this Athlete sort problem, You are given a spreadsheet that contains a list of N athletes and their details (such as age, height, weight, and so on). You are required to sort the data based on the Kth attribute and print the final resulting table.\n",
        "\n",
        "![1514874268-6fabad07aa-AthleteSort2.png](data:image/png;base64,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)\n",
        "\n",
        "Note that K is indexed from 0 to M-1, where M is the number of attributes.\n",
        "Note: If two attributes are the same for different rows, for example, if two atheletes are of the same age, print the row that appeared first in the input.\n",
        "\n",
        "\n",
        "Input Format :\n",
        "The first line contains N and M separated by a space.\n",
        "The next N lines each contain M elements.\n",
        "The last line K contains.\n",
        "\n",
        "Constraints :\n",
        "1 <= N, M <= 1000\n",
        "0 <= K < M\n",
        "Each element <= 1000\n",
        "\n",
        "Output Format :\n",
        "Print the N lines of the sorted table. Each line should contain the space separated elements. Check the sample below for clarity.\n",
        "\n",
        "\n",
        "Sample Input :\n",
        "5 3\n",
        "10 2 5\n",
        "7 1 0\n",
        "9 9 9\n",
        "1 23 12\n",
        "6 5 9\n",
        "1\n",
        "\n",
        "Sample Output :\n",
        "7 1 0\n",
        "10 2 5\n",
        "6 5 9\n",
        "9 9 9\n",
        "1 23 12\n",
        "\n",
        "Explanation :\n",
        "The details are sorted based on the second attribute, since K is zero-indexed."
      ],
      "metadata": {
        "id": "O-eKXuZ2iqIO"
      }
    },
    {
      "cell_type": "code",
      "source": [
        "#!/bin/python3\n",
        "\n",
        "import math\n",
        "import os\n",
        "import random\n",
        "import re\n",
        "import sys\n",
        "\n",
        "\n",
        "\n",
        "if __name__ == '__main__':\n",
        "    nm = input().split()\n",
        "\n",
        "    n = int(nm[0])\n",
        "\n",
        "    m = int(nm[1])\n",
        "\n",
        "    arr = []\n",
        "\n",
        "    for _ in range(n):\n",
        "        arr.append(list(map(int, input().rstrip().split())))\n",
        "\n",
        "    k = int(input())\n",
        "\n",
        "    P=sorted(arr,key=lambda row:row[k])\n",
        "    for i in range(len(P)):\n",
        "        for j in range(len(P[i])):\n",
        "            print(P[i][j], end=' ')\n",
        "        print()\n"
      ],
      "metadata": {
        "colab": {
          "base_uri": "https://localhost:8080/"
        },
        "id": "b5h2c9qqllSo",
        "outputId": "17fe4b22-e91a-4286-aca3-98e92ab65e76"
      },
      "execution_count": 13,
      "outputs": [
        {
          "output_type": "stream",
          "name": "stdout",
          "text": [
            "5 3\n",
            "10 2 5\n",
            "7 1 0\n",
            "9 9 9\n",
            "1 23 12\n",
            "6 5 9\n",
            "1\n",
            "7 1 0 \n",
            "10 2 5 \n",
            "6 5 9 \n",
            "9 9 9 \n",
            "1 23 12 \n"
          ]
        }
      ]
    },
    {
      "cell_type": "code",
      "source": [],
      "metadata": {
        "id": "N8iFdV2WkruK"
      },
      "execution_count": null,
      "outputs": []
    }
  ]
}