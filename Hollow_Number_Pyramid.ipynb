{
  "nbformat": 4,
  "nbformat_minor": 0,
  "metadata": {
    "colab": {
      "provenance": [],
      "authorship_tag": "ABX9TyPFVhKKZngfz8lHXHrCa62n",
      "include_colab_link": true
    },
    "kernelspec": {
      "name": "python3",
      "display_name": "Python 3"
    },
    "language_info": {
      "name": "python"
    }
  },
  "cells": [
    {
      "cell_type": "markdown",
      "metadata": {
        "id": "view-in-github",
        "colab_type": "text"
      },
      "source": [
        "<a href=\"https://colab.research.google.com/github/Shrinivas18/HackerRank_Solutions_/blob/main/Hollow_Number_Pyramid.ipynb\" target=\"_parent\"><img src=\"https://colab.research.google.com/assets/colab-badge.svg\" alt=\"Open In Colab\"/></a>"
      ]
    },
    {
      "cell_type": "markdown",
      "source": [
        "**PROBLEM :**\n",
        "\n",
        "Hollow Number Pyramid Pattern.\n",
        "\n",
        "![py.GIF](data:image/gif;base64,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)"
      ],
      "metadata": {
        "id": "ktuRuaMP6JER"
      }
    },
    {
      "cell_type": "code",
      "execution_count": 1,
      "metadata": {
        "colab": {
          "base_uri": "https://localhost:8080/"
        },
        "id": "vA3hivOg6AGK",
        "outputId": "0a0629ef-2140-423c-c787-eaf08e1ec622"
      },
      "outputs": [
        {
          "output_type": "stream",
          "name": "stdout",
          "text": [
            "    1\n",
            "   1 2\n",
            "  1   2\n",
            " 1     2\n",
            "123456789\n"
          ]
        }
      ],
      "source": [
        "n = 5\n",
        "for i in range(n):\n",
        "    # printing spaces\n",
        "    for j in range(n - i - 1):\n",
        "        print(' ', end='')\n",
        "\n",
        "    # printing number\n",
        "    count = 1\n",
        "    for k in range(2 * i + 1):\n",
        "        # print number at start and end of the row\n",
        "        if k == 0 or k == 2 * i:\n",
        "            print(count, end='')\n",
        "            count += 1\n",
        "        else:\n",
        "            if i == n - 1:\n",
        "                print(count, end='')\n",
        "                count += 1\n",
        "            else:\n",
        "                print(' ', end='')\n",
        "    print()"
      ]
    }
  ]
}