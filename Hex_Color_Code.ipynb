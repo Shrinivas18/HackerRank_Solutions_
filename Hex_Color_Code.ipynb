{
  "nbformat": 4,
  "nbformat_minor": 0,
  "metadata": {
    "colab": {
      "provenance": [],
      "authorship_tag": "ABX9TyPhpvlVNqcnZamG0r5L0Ggk",
      "include_colab_link": true
    },
    "kernelspec": {
      "name": "python3",
      "display_name": "Python 3"
    },
    "language_info": {
      "name": "python"
    }
  },
  "cells": [
    {
      "cell_type": "markdown",
      "metadata": {
        "id": "view-in-github",
        "colab_type": "text"
      },
      "source": [
        "<a href=\"https://colab.research.google.com/github/Shrinivas18/HackerRank_Solutions_/blob/main/Hex_Color_Code.ipynb\" target=\"_parent\"><img src=\"https://colab.research.google.com/assets/colab-badge.svg\" alt=\"Open In Colab\"/></a>"
      ]
    },
    {
      "cell_type": "markdown",
      "source": [
        "**PROBLEM** :\n",
        "\n",
        "CSS colors are defined using a hexadecimal (HEX) notation for the combination of Red, Green, and Blue color values (RGB).\n",
        "Specifications of HEX Color Code\n",
        "■ It must start with a '#' symbol.\n",
        "■ It can have 3 or digits 6.\n",
        "■ Each digit is in the range of 0 to F. ( 1, 2, 3, 4, 5, 6, 7, 8, 9, 0, A, B, C, D, E and F).\n",
        "■ A - F letters can be lower case. (a, b, c, d, e and f are also valid digits).\n",
        "\n",
        "You are given N lines of CSS code. Your task is to print all valid Hex Color Codes, in order of their occurrence from top to bottom.\n"
      ],
      "metadata": {
        "id": "_ArP0gXALW3L"
      }
    },
    {
      "cell_type": "code",
      "source": [
        "import re\n",
        "\n",
        "T = int(input())\n",
        "in_css = False\n",
        "for _ in range(T):\n",
        "    s = input()\n",
        "    if '{' in s:\n",
        "        in_css = True\n",
        "    elif '}' in s:\n",
        "        in_css = False\n",
        "    elif in_css:\n",
        "        for color in re.findall('#[0-9a-fA-F]{3,6}', s):\n",
        "            print(color)"
      ],
      "metadata": {
        "colab": {
          "base_uri": "https://localhost:8080/"
        },
        "id": "b5h2c9qqllSo",
        "outputId": "bb2af30b-a5d8-43e8-9490-b1a50eb616ae"
      },
      "execution_count": 12,
      "outputs": [
        {
          "name": "stdout",
          "output_type": "stream",
          "text": [
            "11\n",
            "#BED\n",
            "{\n",
            "color: #FfFdF8; background-color:#aef;\n",
            "#FfFdF8\n",
            "#aef\n",
            "font-size: 123px;\n",
            "background: -webkit-linear-gradient(top, #f9f9f9, #fff);\n",
            "#f9f9f9\n",
            "#fff\n",
            "}\n",
            "#Cab\n",
            "{\n",
            "background-color: #ABC;\n",
            "#ABC\n",
            "border: 2px dashed #fff;\n",
            "#fff\n",
            "}\n"
          ]
        }
      ]
    }
  ]
}