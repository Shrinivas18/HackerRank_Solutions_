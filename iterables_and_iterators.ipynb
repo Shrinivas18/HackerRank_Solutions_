{
  "nbformat": 4,
  "nbformat_minor": 0,
  "metadata": {
    "colab": {
      "provenance": [],
      "authorship_tag": "ABX9TyNz+4+z8dcg21pPjxYJMr98",
      "include_colab_link": true
    },
    "kernelspec": {
      "name": "python3",
      "display_name": "Python 3"
    },
    "language_info": {
      "name": "python"
    }
  },
  "cells": [
    {
      "cell_type": "markdown",
      "metadata": {
        "id": "view-in-github",
        "colab_type": "text"
      },
      "source": [
        "<a href=\"https://colab.research.google.com/github/Shrinivas18/HackerRank_Solutions_/blob/main/iterables_and_iterators.ipynb\" target=\"_parent\"><img src=\"https://colab.research.google.com/assets/colab-badge.svg\" alt=\"Open In Colab\"/></a>"
      ]
    },
    {
      "cell_type": "markdown",
      "source": [
        "***PROBLEM*** :\n",
        "\n",
        "The itertools module standardizes a core set of fast, memory-efficient tools that are useful by themselves or in combination. Together, they form an iterator algebra making it possible to construct specialized tools succinctly and efficiently in pure Python.\n",
        "\n",
        "To read more about the functions in this module, check out their documentation here.\n",
        "\n",
        "You are given a list of N lowercase English letters. For a given integer K, you can select any K indices (assume 1-based indexing) with a uniform probability from the list.\n",
        "Find the probability that at least one of the K indices selected will contain the letter: ‘a’.\n",
        "\n",
        "Input Format:\n",
        "\n",
        "The input consists of three lines. The first line contains the integer N, denoting the length of the list. The next line consists of N space-separated lowercase English letters, denoting the elements of the list.\n",
        "The third and the last line of input contains the integer K, denoting the number of indices to be selected.\n",
        "\n",
        "Output Format:\n",
        "\n",
        "Output a single line consisting of the probability that at least one of the K indices selected contains the letter:’a’.Note: The answer must be correct up to 3 decimal places.\n",
        "\n",
        "Constraints:\n",
        "\n",
        "1 <= N <= 10\n",
        "1 <= K < = N\n",
        "\n",
        "All the letters in the list are lowercase English letters.\n",
        "\n",
        "Sample Input:\n",
        "\n",
        "4\n",
        "a a c d\n",
        "2\n",
        "\n",
        "Sample Output:\n",
        "\n",
        "0.8333\n",
        "\n",
        "Explanation\n",
        "\n",
        "All possible unordered tuples of length 2 comprising of indices from 1 to 4 are:(1, 2), (1, 3), (1, 4), (2, 3), (2, 4), (3, 4)\n",
        "Out of these 6 combinations, 5 of them contain either index 1 or index 2 which are the indices that contain the letter ‘a’.\n",
        "\n",
        "Hence, the answer is 5/6.\n"
      ],
      "metadata": {
        "id": "O-eKXuZ2iqIO"
      }
    },
    {
      "cell_type": "code",
      "source": [
        "from itertools import combinations\n",
        "\n",
        "N = int(input())\n",
        "L = input().split()\n",
        "K = int(input())\n",
        "\n",
        "C = list(combinations(L, K))\n",
        "F = filter(lambda c: 'a' in c, C)\n",
        "print(\"{0:.3}\".format(len(list(F))/len(C)))\n"
      ],
      "metadata": {
        "colab": {
          "base_uri": "https://localhost:8080/"
        },
        "id": "b5h2c9qqllSo",
        "outputId": "4893d16e-83ad-4dee-b645-b2d0fdfc53da"
      },
      "execution_count": 4,
      "outputs": [
        {
          "output_type": "stream",
          "name": "stdout",
          "text": [
            "4\n",
            "a a c d\n",
            "2\n",
            "0.833\n"
          ]
        }
      ]
    }
  ]
}