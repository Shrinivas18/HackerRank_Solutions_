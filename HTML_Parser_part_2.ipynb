{
  "nbformat": 4,
  "nbformat_minor": 0,
  "metadata": {
    "colab": {
      "provenance": [],
      "authorship_tag": "ABX9TyN++J6ULVqSRy+aDLiGqTlQ",
      "include_colab_link": true
    },
    "kernelspec": {
      "name": "python3",
      "display_name": "Python 3"
    },
    "language_info": {
      "name": "python"
    }
  },
  "cells": [
    {
      "cell_type": "markdown",
      "metadata": {
        "id": "view-in-github",
        "colab_type": "text"
      },
      "source": [
        "<a href=\"https://colab.research.google.com/github/Shrinivas18/HackerRank_Solutions_/blob/main/HTML_Parser_part_2.ipynb\" target=\"_parent\"><img src=\"https://colab.research.google.com/assets/colab-badge.svg\" alt=\"Open In Colab\"/></a>"
      ]
    },
    {
      "cell_type": "markdown",
      "source": [
        "**PROBLEM** :\n",
        "\n",
        "\n",
        "**.handle_comment**(data)\n",
        "This method is called when a comment is encountered (e.g. <!--comment-->).\n",
        "The data argument is the content inside the comment tag:\n",
        "\n",
        "from HTMLParser import HTMLParser\n",
        "\n",
        "class MyHTMLParser(HTMLParser):\n",
        "    def handle_comment(self, data):\n",
        "          print \"Comment  :\", data\n",
        "\n",
        "**.handle_data**(data)\n",
        "This method is called to process arbitrary data (e.g. text nodes and the content of <script>...</script> and <style>...</style>).\n",
        "The data argument is the text content of HTML.\n",
        "from HTMLParser import HTMLParser\n",
        "\n",
        "class MyHTMLParser(HTMLParser):\n",
        "    def handle_data(self, data):\n",
        "        print \"Data     :\", data\n",
        "**Task**:\n",
        "\n",
        "You are given an HTML code snippet of N lines.\n",
        "\n",
        "Your task is to print the single-line comments, multi-line comments and the data.\n",
        "Print the result in the following format:\n",
        ">>> Single-line Comment  \n",
        "Comment\n",
        ">>> Data                 \n",
        "My Data\n",
        ">>> Multi-line Comment  \n",
        "Comment_multiline[0]\n",
        "Comment_multiline[1]\n",
        ">>> Data\n",
        "My Data\n",
        ">>> Single-line Comment:  \n",
        "Note: Do not print data if data == '\\n'.\n",
        "Input Format\n",
        "The first line contains integer N, , the number of lines in the HTML code snippet.\n",
        "The next N lines contains HTML code.\n",
        "\n",
        "**Constraints**:\n",
        "\n",
        "0 < N < 100\n",
        "\n",
        "**Output Format**:\n",
        "\n",
        "Print the single-line comments, multi-line comments and the data in order of their occurrence from top to bottom in the snippet.\n",
        "Format the answers as explained in the problem statement.\n",
        "\n",
        "**Sample Input**\n",
        "4\n",
        "<!--[if IE 9]>IE9-specific content\n",
        "<![endif]-->\n",
        "<div> Welcome to HackerRank</div>\n",
        "<!--[if IE 9]>IE9-specific content<![endif]-->\n",
        "\n",
        "\n",
        "**Sample Output**\n",
        "\n",
        "\n",
        ">>> Multi-line Comment\n",
        "[if IE 9]>IE9-specific content\n",
        "<![endif]\n",
        ">>> Data\n",
        " Welcome to HackerRank\n",
        ">>> Single-line Comment\n",
        "[if IE 9]>IE9-specific content<![endif]"
      ],
      "metadata": {
        "id": "_ArP0gXALW3L"
      }
    },
    {
      "cell_type": "code",
      "source": [
        "from html.parser import HTMLParser\n",
        "\n",
        "class MyHTMLParser(HTMLParser):\n",
        "    def handle_comment(self, data):\n",
        "        if '\\n' not in data:\n",
        "            print('>>> Single-line Comment')\n",
        "            print(data)\n",
        "        elif '\\n' in data:\n",
        "            print('>>> Multi-line Comment')\n",
        "            print(data)\n",
        "    def handle_data(self, data):\n",
        "        if data != '\\n':\n",
        "            print('>>> Data')\n",
        "            print(data)\n",
        "html = \"\"       \n",
        "for i in range(int(input())):\n",
        "    html += input().rstrip()\n",
        "    html += '\\n'\n",
        "\n",
        "parser = MyHTMLParser()\n",
        "parser.feed(html)\n",
        "parser.close()"
      ],
      "metadata": {
        "colab": {
          "base_uri": "https://localhost:8080/"
        },
        "id": "b5h2c9qqllSo",
        "outputId": "9b4d690f-a7c0-4bd6-f9b7-959dc185a673"
      },
      "execution_count": 14,
      "outputs": [
        {
          "output_type": "stream",
          "name": "stdout",
          "text": [
            "4\n",
            "<!--[if IE 9]>IE9-specific content\n",
            "<![endif]-->\n",
            "<div> Welcome to HackerRank</div>\n",
            "<!--[if IE 9]>IE9-specific content<![endif]-->\n",
            ">>> Multi-line Comment\n",
            "[if IE 9]>IE9-specific content\n",
            "<![endif]\n",
            ">>> Data\n",
            " Welcome to HackerRank\n",
            ">>> Single-line Comment\n",
            "[if IE 9]>IE9-specific content<![endif]\n"
          ]
        }
      ]
    }
  ]
}