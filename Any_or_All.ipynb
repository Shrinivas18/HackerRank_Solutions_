{
  "nbformat": 4,
  "nbformat_minor": 0,
  "metadata": {
    "colab": {
      "provenance": [],
      "authorship_tag": "ABX9TyP2eVd7r3+iXMm8aKFc0it1",
      "include_colab_link": true
    },
    "kernelspec": {
      "name": "python3",
      "display_name": "Python 3"
    },
    "language_info": {
      "name": "python"
    }
  },
  "cells": [
    {
      "cell_type": "markdown",
      "metadata": {
        "id": "view-in-github",
        "colab_type": "text"
      },
      "source": [
        "<a href=\"https://colab.research.google.com/github/Shrinivas18/HackerRank_Solutions_/blob/main/Any_or_All.ipynb\" target=\"_parent\"><img src=\"https://colab.research.google.com/assets/colab-badge.svg\" alt=\"Open In Colab\"/></a>"
      ]
    },
    {
      "cell_type": "markdown",
      "source": [
        "***PROBLEM*** :\n",
        "\n",
        "any()\n",
        "This expression returns True if any element of the iterable is true.\n",
        "If the iterable is empty, it will return False.\n",
        "\n",
        "Code :\n",
        ">>> any([1>0,1==0,1<0])\n",
        "True\n",
        ">>> any([1<0,2<1,3<2])\n",
        "False\n",
        "\n",
        "all()\n",
        "This expression returns True if all of the elements of the iterable are true. If the iterable is empty, it will return True.\n",
        "\n",
        "Code :\n",
        ">>> all(['a'<'b','b'<'c'])\n",
        "True\n",
        ">>> all(['a'<'b','c'<'b'])\n",
        "False\n",
        "\n",
        "Task :\n",
        "You are given a space separated list of integers. If all the integers are positive, then you need to check if any integer is a palindromic integer.\n",
        "\n",
        "\n",
        "Input Format :\n",
        "The first line contains an integer N. N is the total number of integers in the list.\n",
        "The second line contains the space separated list of N integers.\n",
        "\n",
        "Constraints :\n",
        "0 < N < 100\n",
        "\n",
        "Output Format :\n",
        "Print True if all the conditions of the problem statement are satisfied. Otherwise, print False.\n",
        "\n",
        "\n",
        "Sample Input :\n",
        "5\n",
        "12 9 61 5 14 \n",
        "\n",
        "Sample Output :\n",
        "True\n",
        "\n",
        "Explanation :\n",
        "Condition 1: All the integers in the list are positive.\n",
        "Condition 2: 5 is a palindromic integer.\n",
        "Hence, the output is True.\n",
        "Can you solve this challenge in 3 lines of code or less?\n",
        "There is no penalty for solutions that are correct but have more than 3 lines."
      ],
      "metadata": {
        "id": "O-eKXuZ2iqIO"
      }
    },
    {
      "cell_type": "code",
      "source": [
        "def isPositive(i):\n",
        "    if i > 0:\n",
        "        return True\n",
        "    return False\n",
        "\n",
        "def isPalindrome(i):\n",
        "    if int(str(i)[::-1]) is i:\n",
        "        return True\n",
        "    return False\n",
        "\n",
        "N = int(input())\n",
        "storage = map(int, input().split())\n",
        "storage = sorted(storage)\n",
        "\n",
        "if all([isPositive(i) for i in storage]):\n",
        "    if any([isPalindrome(i) for i in storage]):\n",
        "        print(\"True\")\n",
        "    else:\n",
        "        print(\"False\")\n",
        "else:\n",
        "    print(\"False\")"
      ],
      "metadata": {
        "colab": {
          "base_uri": "https://localhost:8080/"
        },
        "id": "b5h2c9qqllSo",
        "outputId": "6dd3503a-20e8-456b-d398-c6b2efd8cb28"
      },
      "execution_count": 14,
      "outputs": [
        {
          "output_type": "stream",
          "name": "stdout",
          "text": [
            "5\n",
            "12 9 61 5 14\n",
            "True\n"
          ]
        }
      ]
    },
    {
      "cell_type": "code",
      "source": [],
      "metadata": {
        "id": "N8iFdV2WkruK"
      },
      "execution_count": null,
      "outputs": []
    }
  ]
}