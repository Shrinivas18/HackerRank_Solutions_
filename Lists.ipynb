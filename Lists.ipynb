{
  "nbformat": 4,
  "nbformat_minor": 0,
  "metadata": {
    "colab": {
      "provenance": [],
      "authorship_tag": "ABX9TyMOFxSDGp/5uxtLqBIb98Pw",
      "include_colab_link": true
    },
    "kernelspec": {
      "name": "python3",
      "display_name": "Python 3"
    },
    "language_info": {
      "name": "python"
    }
  },
  "cells": [
    {
      "cell_type": "markdown",
      "metadata": {
        "id": "view-in-github",
        "colab_type": "text"
      },
      "source": [
        "<a href=\"https://colab.research.google.com/github/Shrinivas18/HackerRank_Solutions_/blob/main/Lists.ipynb\" target=\"_parent\"><img src=\"https://colab.research.google.com/assets/colab-badge.svg\" alt=\"Open In Colab\"/></a>"
      ]
    },
    {
      "cell_type": "markdown",
      "source": [
        "***PROBLEM*** :\n",
        "\n",
        "Consider a list (list = []). You can perform the following commands:\n",
        "\n",
        "insert i, e: Insert integer e at position i.\n",
        "print: Print the list.\n",
        "remove e: Delete the first occurrence of integer e.\n",
        "append e: Insert integer e at the end of the list.\n",
        "sort: Sort the list.\n",
        "pop: Pop the last element from the list.\n",
        "reverse: Reverse the list.\n",
        "Initialize your list and read in the value of n followed by n lines of commands where each command will be of the 7 types listed above. Iterate through each command in order and perform the corresponding operation on your list.\n",
        "\n",
        "Example:\n",
        "\n",
        "N = 4\n",
        "\n",
        "append 1\n",
        "\n",
        "append 2\n",
        "\n",
        "insert 3 1\n",
        "\n",
        "print\n",
        "\n",
        "append 1: Append 1 to the list, arr = [1].\n",
        "append 2: Append 2 to the list, arr = [1, 2].\n",
        "insert 3 1: Insert 3 at index 1,arr = [1, 3, 2].\n",
        "print: Print the array.\n",
        "Output:\n",
        "[1, 3, 2]\n",
        " \n",
        "\n",
        "Input Format:\n",
        "\n",
        "The first line contains an integer, n, denoting the number of commands.\n",
        "\n",
        "Each line I of the n subsequent lines contains one of the commands described above.\n",
        "\n",
        "Constraints:\n",
        "\n",
        "The elements added to the list must be integers.\n",
        "\n",
        "Output Format:\n",
        "\n",
        "For each command of type print, print the list on a new line.\n",
        "\n",
        "Sample Input \n",
        "\n",
        "12\n",
        "\n",
        "insert 0 5\n",
        "\n",
        "insert 1 10\n",
        "\n",
        "insert 0 6\n",
        "\n",
        "print\n",
        "\n",
        "remove 6\n",
        "\n",
        "append 9\n",
        "\n",
        "append 1\n",
        "\n",
        "sort\n",
        "\n",
        "print\n",
        "\n",
        "pop\n",
        "\n",
        "reverse\n",
        "\n",
        "print\n",
        "\n",
        "Sample Output\n",
        "\n",
        "[6, 5, 10]\n",
        "\n",
        "[1, 5, 9, 10]\n",
        "\n",
        "[9, 5, 1]\n"
      ],
      "metadata": {
        "id": "O-eKXuZ2iqIO"
      }
    },
    {
      "cell_type": "code",
      "source": [
        "if __name__ == '__main__':\n",
        "    N = int(input())\n",
        "    \n",
        "    List=[];\n",
        "\n",
        "    for i in range(N):\n",
        "\n",
        "        command=input().split();\n",
        "\n",
        "        if command[0] == \"insert\":\n",
        "\n",
        "            List.insert(int(command[1]),int(command[2]))\n",
        "\n",
        "        elif command[0] == \"append\":\n",
        "\n",
        "            List.append(int(command[1]))\n",
        "\n",
        "        elif command[0] == \"pop\":\n",
        "\n",
        "            List.pop();\n",
        "\n",
        "        elif command[0] == \"print\":\n",
        "\n",
        "            print(List)\n",
        "\n",
        "        elif command[0] == \"remove\":\n",
        "\n",
        "            List.remove(int(command[1]))\n",
        "\n",
        "        elif command[0] == \"sort\":\n",
        "\n",
        "            List.sort();\n",
        "\n",
        "        else:\n",
        "\n",
        "            List.reverse();\n",
        "    "
      ],
      "metadata": {
        "colab": {
          "base_uri": "https://localhost:8080/"
        },
        "id": "b5h2c9qqllSo",
        "outputId": "629b3bbf-fc6e-4636-9dff-dfef91aa195b"
      },
      "execution_count": 11,
      "outputs": [
        {
          "output_type": "stream",
          "name": "stdout",
          "text": [
            "12\n",
            "insert 0 5\n",
            "insert 1 10\n",
            "insert 0 6\n",
            "print\n",
            "[6, 5, 10]\n",
            "remove 6\n",
            "append 9\n",
            "append 1\n",
            "sort\n",
            "print\n",
            "[1, 5, 9, 10]\n",
            "pop\n",
            "reverse\n",
            "print\n",
            "[9, 5, 1]\n"
          ]
        }
      ]
    }
  ]
}