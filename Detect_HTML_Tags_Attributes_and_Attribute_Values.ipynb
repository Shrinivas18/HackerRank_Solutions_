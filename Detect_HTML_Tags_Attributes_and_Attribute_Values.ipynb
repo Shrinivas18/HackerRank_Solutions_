{
  "nbformat": 4,
  "nbformat_minor": 0,
  "metadata": {
    "colab": {
      "provenance": [],
      "authorship_tag": "ABX9TyO0au7XInhYWazXto1GTTVw",
      "include_colab_link": true
    },
    "kernelspec": {
      "name": "python3",
      "display_name": "Python 3"
    },
    "language_info": {
      "name": "python"
    }
  },
  "cells": [
    {
      "cell_type": "markdown",
      "metadata": {
        "id": "view-in-github",
        "colab_type": "text"
      },
      "source": [
        "<a href=\"https://colab.research.google.com/github/Shrinivas18/HackerRank_Solutions_/blob/main/Detect_HTML_Tags_Attributes_and_Attribute_Values.ipynb\" target=\"_parent\"><img src=\"https://colab.research.google.com/assets/colab-badge.svg\" alt=\"Open In Colab\"/></a>"
      ]
    },
    {
      "cell_type": "markdown",
      "source": [
        "**PROBLEM** :\n",
        "\n",
        "\n",
        "You are given an HTML code snippet of N lines.\n",
        "Your task is to detect and print all the HTML tags, attributes and attribute values.\n",
        "Print the detected items in the following format:\n",
        "Tag1\n",
        "Tag2\n",
        "-> Attribute2[0] > Attribute_value2[0]\n",
        "-> Attribute2[1] > Attribute_value2[1]\n",
        "-> Attribute2[2] > Attribute_value2[2]\n",
        "Tag3\n",
        "-> Attribute3[0] > Attribute_value3[0]\n",
        "\n",
        "The -> symbol indicates that the tag contains an attribute. It is immediately followed by the name of the attribute and the attribute value.\n",
        "\n",
        "\n",
        "The > symbol acts as a separator of attributes and attribute values.\n",
        "If an HTML tag has no attribute then simply print the name of the tag.\n",
        "\n",
        "Note: Do not detect any HTML tag, attribute or attribute value inside the HTML comment tags (<!-- Comments -->). Comments can be multiline.\n",
        "All attributes have an attribute value.\n",
        "\n",
        "\n",
        "Input Format :\n",
        "The first line contains an integer N, the number of lines in the HTML code snippet.\n",
        "The next N lines contain HTML code.\n",
        "\n",
        "Constraints :\n",
        "0 < N < 100\n",
        "\n",
        "Output Format :\n",
        "Print the HTML tags, attributes and attribute values in order of their occurrence from top to bottom in the snippet.\n",
        "Format your answers as explained in the problem statement.\n",
        "\n",
        "\n",
        "Sample Input :\n",
        "9\n",
        "<head>\n",
        "<title>HTML</title>\n",
        "</head>\n",
        "<object type=\"application/x-flash\" \n",
        "  data=\"your-file.swf\" \n",
        "  width=\"0\" height=\"0\">\n",
        "  <!-- <param name=\"movie\" value=\"your-file.swf\" /> -->\n",
        "  <param name=\"quality\" value=\"high\"/>\n",
        "</object>\n",
        "\n",
        "Sample Output :\n",
        "head\n",
        "title\n",
        "object\n",
        "-> type > application/x-flash\n",
        "-> data > your-file.swf\n",
        "-> width > 0\n",
        "-> height > 0\n",
        "param\n",
        "-> name > quality\n",
        "-> value > high\n",
        "\n",
        "Explanation :\n",
        "head tag: Print the head tag only because it has no attribute.\n",
        "title tag: Print the title tag only because it has no attribute.\n",
        "object tag: Print the object tag. In the next 4 lines, print the attributes type, data, width and height along with their respective values.\n",
        "<!-- Comment --> tag: Don't detect anything inside it.\n",
        "param tag: Print the param tag. In the next 2 Lines, print the attributes name along with their respective values."
      ],
      "metadata": {
        "id": "_ArP0gXALW3L"
      }
    },
    {
      "cell_type": "code",
      "source": [
        "from html.parser import HTMLParser\n",
        "\n",
        "class MyHTMLParser(HTMLParser):\n",
        "    def handle_starttag(self, tag, attrs):\n",
        "        print(tag)\n",
        "        for attr, value in attrs:\n",
        "            print(\"->\", attr, \">\", value)\n",
        "\n",
        "    def handle_startendtag(self, tag, attrs):\n",
        "        print(tag)\n",
        "        for attr, value in attrs:\n",
        "            print(\"->\", attr, \">\", value)\n",
        "\n",
        "html = ''\n",
        "for _ in range(int(input())):\n",
        "    html += input().rstrip() + '\\n'\n",
        "\n",
        "parser = MyHTMLParser()\n",
        "parser.feed(html)\n",
        "parser.close()"
      ],
      "metadata": {
        "colab": {
          "base_uri": "https://localhost:8080/"
        },
        "id": "b5h2c9qqllSo",
        "outputId": "462a5580-862d-4962-f98e-25e40b715394"
      },
      "execution_count": 1,
      "outputs": [
        {
          "output_type": "stream",
          "name": "stdout",
          "text": [
            "9\n",
            "<head>\n",
            "<title>HTML</title>\n",
            "</head>\n",
            "<object type=\"application/x-flash\" \n",
            "  data=\"your-file.swf\" \n",
            "  width=\"0\" height=\"0\">\n",
            "  <!-- <param name=\"movie\" value=\"your-file.swf\" /> -->\n",
            "  <param name=\"quality\" value=\"high\"/>\n",
            "</object>\n",
            "head\n",
            "title\n",
            "object\n",
            "-> type > application/x-flash\n",
            "-> data > your-file.swf\n",
            "-> width > 0\n",
            "-> height > 0\n",
            "param\n",
            "-> name > quality\n",
            "-> value > high\n"
          ]
        }
      ]
    }
  ]
}