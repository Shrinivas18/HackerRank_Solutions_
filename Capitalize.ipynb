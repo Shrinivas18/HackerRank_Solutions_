{
  "nbformat": 4,
  "nbformat_minor": 0,
  "metadata": {
    "colab": {
      "provenance": [],
      "authorship_tag": "ABX9TyPVesASSkh3g2xQNR5RP9jb",
      "include_colab_link": true
    },
    "kernelspec": {
      "name": "python3",
      "display_name": "Python 3"
    },
    "language_info": {
      "name": "python"
    }
  },
  "cells": [
    {
      "cell_type": "markdown",
      "metadata": {
        "id": "view-in-github",
        "colab_type": "text"
      },
      "source": [
        "<a href=\"https://colab.research.google.com/github/Shrinivas18/HackerRank_Solutions_/blob/main/Capitalize.ipynb\" target=\"_parent\"><img src=\"https://colab.research.google.com/assets/colab-badge.svg\" alt=\"Open In Colab\"/></a>"
      ]
    },
    {
      "cell_type": "markdown",
      "source": [
        "***PROBLEM*** :\n",
        "\n",
        "You are asked to ensure that the first and last names of people begin with a capital letter in their passports. For example, alison heck should be capitalized correctly as Alison Heck.\n",
        "\n",
        "alishonheck ==> AlishonHeck\n",
        "\n",
        "Given a full name, your task is to capitalize the name appropriately.\n",
        "\n",
        "Input Format\n",
        "\n",
        "A single line of input containing the full name, S.\n",
        "\n",
        "Constraints\n",
        "\n",
        "0 < len(S) < 1000\n",
        "The string consists of alphanumeric characters and spaces.\n",
        "Note: in a word only the first character is capitalized. Example 12abc when capitalized remains 12abc.\n",
        "\n",
        "Output Format\n",
        "\n",
        "Print the capitalized string, S.\n",
        "\n",
        "Sample Input\n",
        "\n",
        "python\n",
        "\n",
        "chris alan\n",
        "\n",
        "\n",
        "Sample Output\n",
        "\n",
        "python\n",
        "\n",
        "Chris Alan"
      ],
      "metadata": {
        "id": "O-eKXuZ2iqIO"
      }
    },
    {
      "cell_type": "code",
      "source": [
        "#!/bin/python3\n",
        "\n",
        "import math\n",
        "import os\n",
        "import random\n",
        "import re\n",
        "import sys\n",
        "\n",
        "# Complete the solve function below.\n",
        "def solve(s):\n",
        "    for x in s[:].split():\n",
        "        s = s.replace(x, x.capitalize())\n",
        "    return s\n",
        "\n",
        "s = input()\n",
        "\n",
        "result = solve(s)\n",
        "print(result)\n"
      ],
      "metadata": {
        "colab": {
          "base_uri": "https://localhost:8080/"
        },
        "id": "b5h2c9qqllSo",
        "outputId": "086edb8e-aba6-483e-d76e-1775b106ff1a"
      },
      "execution_count": 18,
      "outputs": [
        {
          "output_type": "stream",
          "name": "stdout",
          "text": [
            "hello world\n",
            "Hello World\n"
          ]
        }
      ]
    }
  ]
}