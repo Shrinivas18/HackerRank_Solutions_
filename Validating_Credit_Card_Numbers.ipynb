{
  "nbformat": 4,
  "nbformat_minor": 0,
  "metadata": {
    "colab": {
      "provenance": [],
      "authorship_tag": "ABX9TyOigzn91OoQCESfRpLtb7FV",
      "include_colab_link": true
    },
    "kernelspec": {
      "name": "python3",
      "display_name": "Python 3"
    },
    "language_info": {
      "name": "python"
    }
  },
  "cells": [
    {
      "cell_type": "markdown",
      "metadata": {
        "id": "view-in-github",
        "colab_type": "text"
      },
      "source": [
        "<a href=\"https://colab.research.google.com/github/Shrinivas18/HackerRank_Solutions_/blob/main/Validating_Credit_Card_Numbers.ipynb\" target=\"_parent\"><img src=\"https://colab.research.google.com/assets/colab-badge.svg\" alt=\"Open In Colab\"/></a>"
      ]
    },
    {
      "cell_type": "markdown",
      "source": [
        "**PROBLEM** :\n",
        "\n",
        "\n",
        "You and Fredrick are good friends. Yesterday, Fredrick received N credit cards from ABCD Bank. He wants to verify whether his credit card numbers are valid or not. You happen to be great at regex so he is asking for your help!\n",
        "\n",
        "A valid credit card from ABCD Bank has the following characteristics:\n",
        "\n",
        "It must start with a 4, 5 or 6.\n",
        "It must contain exactly 16 digits.\n",
        "It must only consist of digits (0-9).\n",
        " It may have digits in groups of 4, separated by one hyphen “-“.\n",
        "It must NOT use any other separator like ‘ ‘ , ‘_’, etc.\n",
        "It must NOT have 4 or more consecutive repeated digits.\n",
        "Valid credit card numbers:\n",
        "\n",
        "python\n",
        "\n",
        "4253625879615786\n",
        "4424424424442444\n",
        "5122-2368-7954-3214\n",
        "Invalid credit card numbers:\n",
        "\n",
        "python\n",
        "\n",
        "42536258796157867       #17 digits in card number → Invalid \n",
        "4424444424442444        #Consecutive digits are repeating 4 or more times → Invalid\n",
        "5122-2368-7954 - 3214   #Separators other than '-' are used → Invalid\n",
        "44244x4424442444        #Contains non digit characters → Invalid\n",
        "0525362587961578        #Doesn't start with 4, 5 or 6 → Invalid\n",
        "Input format:\n",
        "\n",
        "The first line of input contains an integer N.\n",
        "The next N lines contain credit card numbers.\n",
        "\n",
        "Constraints:\n",
        "\n",
        "0 < N < 100\n",
        "Output format:\n",
        "\n",
        "Print ‘Valid’ if the credit card number is valid. Otherwise, print ‘Invalid’. Do not print the quotes.\n",
        "\n",
        "Sample input:\n",
        "\n",
        "bash\n",
        "\n",
        "6\n",
        "4123456789123456\n",
        "5123-4567-8912-3456\n",
        "61234-567-8912-3456\n",
        "4123356789123456\n",
        "5133-3367-8912-3456\n",
        "5123 - 3567 - 8912 - 3456\n",
        "Sample output:\n",
        "\n",
        "bash\n",
        "\n",
        "Valid\n",
        "Valid\n",
        "Invalid\n",
        "Valid\n",
        "Invalid\n",
        "Invalid\n",
        "Explanation:\n",
        "\n",
        "4123456789123456 : Valid\n",
        "5123-4567-8912-3456 : Valid\n",
        "61234-567-8912-3456 : Invalid, because the card number is not divided into equal groups of 4.\n",
        "4123356789123456 : Valid\n",
        "51-33-33-67-8912-3456 : Invalid, consecutive digits 3333 is repeating 4 times.\n",
        "5123456789123456 : Invalid, because space ‘  ‘ and - are used as separators.\n",
        "\n",
        " \n",
        "\n",
        "Possible solutions:\n",
        "Now we will use various methods to find the possible solutions to the question given above to validate the credit card number based on some conditions. Before going to the solutions, make sure that you have a solid understanding of regular expressions as we will be using regular expressions for the validation of the credit card numbers. We will use the following ways to solve the question.\n",
        "\n",
        "Using regular expressions\n",
        "Using if-else statements\n",
        "Using try-except blocks\n",
        " \n",
        "\n",
        "Solution-1: Using regular expression\n",
        "In this solution, we will use regular expressions to find valid credit card numbers. The re module in Python provides a set of powerful regular expression facilities, which allows you to quickly check whether a given string matches a given pattern (using the match function), or contains such a pattern (using the search function).\n",
        "\n",
        "In the solution, we will use the re.compile which is used to compile a regular expression pattern provided as a string into a regex pattern object ( re. Pattern ). Later we can use this pattern object to search for a match inside different target strings using regex methods such as a re. match() or re.search()."
      ],
      "metadata": {
        "id": "_ArP0gXALW3L"
      }
    },
    {
      "cell_type": "code",
      "source": [
        "import re\n",
        "\n",
        "pattern = re.compile(\n",
        "    r'^'\n",
        "    r'(?!.*(\\d)(-?\\1){3})'\n",
        "    r'[456]\\d{3}'\n",
        "    r'(?:-?\\d{4}){3}'\n",
        "    r'$')\n",
        "\n",
        "for _ in range(int(input().strip())):\n",
        "  print('Valid' if pattern.search(input().strip()) else 'Invalid')"
      ],
      "metadata": {
        "colab": {
          "base_uri": "https://localhost:8080/"
        },
        "id": "b5h2c9qqllSo",
        "outputId": "fcd3a8e0-c6c7-49a2-ae8f-3a7937cac984"
      },
      "execution_count": 3,
      "outputs": [
        {
          "output_type": "stream",
          "name": "stdout",
          "text": [
            "6\n",
            "4123456789123456\n",
            "Valid\n",
            "5123-4567-8912-3456\n",
            "Valid\n",
            "61234-567-8912-3456\n",
            "Invalid\n",
            "4123356789123456\n",
            "Valid\n",
            "5133-3367-8912-3456\n",
            "Invalid\n",
            "5123 - 3567 - 8912 - 3456\n",
            "Invalid\n"
          ]
        }
      ]
    }
  ]
}