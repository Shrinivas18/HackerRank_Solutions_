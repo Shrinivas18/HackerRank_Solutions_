{
  "nbformat": 4,
  "nbformat_minor": 0,
  "metadata": {
    "colab": {
      "provenance": [],
      "authorship_tag": "ABX9TyNanJBgS+Q4flUdSyIbI+zv",
      "include_colab_link": true
    },
    "kernelspec": {
      "name": "python3",
      "display_name": "Python 3"
    },
    "language_info": {
      "name": "python"
    }
  },
  "cells": [
    {
      "cell_type": "markdown",
      "metadata": {
        "id": "view-in-github",
        "colab_type": "text"
      },
      "source": [
        "<a href=\"https://colab.research.google.com/github/Shrinivas18/HackerRank_Solutions_/blob/main/Re_findall()_and_Re_finditer().ipynb\" target=\"_parent\"><img src=\"https://colab.research.google.com/assets/colab-badge.svg\" alt=\"Open In Colab\"/></a>"
      ]
    },
    {
      "cell_type": "markdown",
      "source": [
        "**PROBLEM**\n",
        "\n",
        "\n",
        "re.findall()\n",
        "The expression re.findall() returns all the non-overlapping matches of patterns in a string as a list of strings.\n",
        "Code :\n",
        ">>> import re\n",
        ">>> re.findall(r'\\w','http://www.hackerrank.com/')\n",
        "['h', 't', 't', 'p', 'w', 'w', 'w', 'h', 'a', 'c', 'k', 'e', 'r', 'r', 'a', 'n', 'k', 'c', 'o', 'm']\n",
        "\n",
        "re.finditer()\n",
        "The expression re.finditer() returns an iterator yielding MatchObject instances over all non-overlapping matches for the re pattern in the string.\n",
        "Code :\n",
        ">>> import re\n",
        ">>> re.finditer(r'\\w','http://www.hackerrank.com/')\n",
        "<callable-iterator object at 0x0266C790>\n",
        ">>> map(lambda x: x.group(),re.finditer(r'\\w','http://www.hackerrank.com/'))\n",
        "['h', 't', 't', 'p', 'w', 'w', 'w', 'h', 'a', 'c', 'k', 'e', 'r', 'r', 'a', 'n', 'k', 'c', 'o', 'm']\n",
        "\n",
        "Task :\n",
        "You are given a string S. It consists of alphanumeric characters, spaces and symbols(+,-).\n",
        "Your task is to find all the substrings of S that contains 2 or more vowels.\n",
        "\n",
        "\n",
        "Also, these substrings must lie in between 2 consonants and should contain vowels only.\n",
        "Note :\n",
        "Vowels are defined as: AEIOU and aeiou.\n",
        "Consonants are defined as: QWRTYPSDFGHJKLZXCVBNM and qwrtypsdfghjklzxcvbnm.\n",
        "\n",
        "\n",
        "Input Format :\n",
        "A single line of input containing string S.\n",
        "\n",
        "Constraints :\n",
        "0 < len(s)<100\n",
        "\n",
        "Output Format :\n",
        "Print the matched substrings in their order of occurrence on separate lines.\n",
        "If no match is found, print -1.\n",
        "\n",
        "\n",
        "Sample Input :\n",
        ">>> import re\n",
        ">>> re.finditer(r'\\w','http://www.hackerrank.com/')\n",
        "<callable-iterator object at 0x0266C790>\n",
        ">>> map(lambda x: x.group(),re.finditer(r'\\w','http://www.hackerrank.com/'))\n",
        "['h', 't', 't', 'p', 'w', 'w', 'w', 'h', 'a', 'c', 'k', 'e', 'r', 'r', 'a', 'n', 'k', 'c', 'o', 'm']\n",
        "\n",
        "Sample Output :\n",
        "ee\n",
        "Ioo\n",
        "Oeo\n",
        "eeeee\n",
        "\n",
        "Explanation :\n",
        "ee is located between consonant d and f.\n",
        "Ioo is located between consonant k and m.\n",
        "Oeo is located between consonant p and r.\n",
        "eeeee is located between consonant t and t."
      ],
      "metadata": {
        "id": "_ArP0gXALW3L"
      }
    },
    {
      "cell_type": "code",
      "source": [
        "import re\n",
        "\n",
        "Storage = re.findall(r'(?<=[qwrtypsdfghjklzxcvbnm])([aeiou]{2,})(?=[qwrtypsdfghjklzxcvbnm])', input().strip(), re.IGNORECASE)\n",
        "\n",
        "if Storage:\n",
        "    for i in Storage:\n",
        "        print(i)\n",
        "else:\n",
        "    print(-1)"
      ],
      "metadata": {
        "colab": {
          "base_uri": "https://localhost:8080/"
        },
        "id": "b5h2c9qqllSo",
        "outputId": "c34e6dcf-caa2-460c-d745-15697503a4e5"
      },
      "execution_count": 5,
      "outputs": [
        {
          "output_type": "stream",
          "name": "stdout",
          "text": [
            "rabcdeefgyYhFjkIoomnpOeorteeeeet\n",
            "ee\n",
            "Ioo\n",
            "Oeo\n",
            "eeeee\n"
          ]
        }
      ]
    }
  ]
}