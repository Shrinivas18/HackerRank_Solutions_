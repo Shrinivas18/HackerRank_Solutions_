{
  "nbformat": 4,
  "nbformat_minor": 0,
  "metadata": {
    "colab": {
      "provenance": [],
      "authorship_tag": "ABX9TyMVhJ6qldlDdJWuT5QatKFA",
      "include_colab_link": true
    },
    "kernelspec": {
      "name": "python3",
      "display_name": "Python 3"
    },
    "language_info": {
      "name": "python"
    }
  },
  "cells": [
    {
      "cell_type": "markdown",
      "metadata": {
        "id": "view-in-github",
        "colab_type": "text"
      },
      "source": [
        "<a href=\"https://colab.research.google.com/github/Shrinivas18/HackerRank_Solutions_/blob/main/Exceptions.ipynb\" target=\"_parent\"><img src=\"https://colab.research.google.com/assets/colab-badge.svg\" alt=\"Open In Colab\"/></a>"
      ]
    },
    {
      "cell_type": "markdown",
      "source": [
        "***PROBLEM*** :\n",
        "\n",
        "Exceptions\n",
        "Errors detected during execution are called exceptions.\n",
        "\n",
        "Examples:\n",
        "ZeroDivisionError\n",
        "This error is raised when the second argument of a division or modulo operation is zero.\n",
        "\n",
        ">>> a = '1'\n",
        ">>> b = '0'\n",
        ">>> print int(a) / int(b)\n",
        ">>> ZeroDivisionError: integer division or modulo by zero\n",
        "\n",
        "ValueError\n",
        "\n",
        "This error is raised when a built-in operation or function receives an argument that has the right type but an inappropriate value.\n",
        "\n",
        ">>> a = '1'\n",
        ">>> b = '#'\n",
        ">>> print int(a) / int(b)\n",
        "\n",
        ">>> ValueError: invalid literal for int() with base 10: '#'\n",
        "Handling Exceptions\n",
        "The statements try and except can be used to handle selected exceptions. A try statement may have more than one except clause to specify handlers for different exceptions.\n",
        "\n",
        "#Code\n",
        "try:\n",
        "    print 1/0\n",
        "except ZeroDivisionError as e:\n",
        "    print \"Error Code:\",e\n",
        "\n",
        "Output:\n",
        "\n",
        "Error Code: integer division or modulo by zero.\n",
        "\n",
        "Task:\n",
        "\n",
        "You are given two values a and b.\n",
        "\n",
        "Perform integer division and print a / b.\n",
        "\n",
        "Input Format\n",
        "\n",
        "The first line contains T, the number of test cases.\n",
        "\n",
        "The next T lines each contain the space-separated values of a and b.\n",
        "\n",
        "Constraints:\n",
        "\n",
        "0 < T < 10\n",
        "\n",
        "Output Format\n",
        "\n",
        "Print the value of a / b.\n",
        "\n",
        "In the case of ZeroDivisionError or ValueError, print the error code.\n",
        "\n",
        "Sample Input\n",
        "\n",
        "3\n",
        "\n",
        "1 0\n",
        "\n",
        "2 $\n",
        "\n",
        "3 1\n",
        "\n",
        "Sample Output\n",
        " \n",
        "Error Code: integer division or modulo by zero\n",
        "\n",
        "Error Code: invalid literal for int() with base 10: '$'\n",
        "\n",
        "3"
      ],
      "metadata": {
        "id": "O-eKXuZ2iqIO"
      }
    },
    {
      "cell_type": "code",
      "source": [
        "for i in range(int(input())):\n",
        "    try:\n",
        "        a,b=map(int,input().split())\n",
        "        print(a//b)\n",
        "    except Exception as e:\n",
        "        print(\"Error Code:\",e)"
      ],
      "metadata": {
        "colab": {
          "base_uri": "https://localhost:8080/"
        },
        "id": "b5h2c9qqllSo",
        "outputId": "e5d10e7d-f0ac-4a85-f4f4-96483c2bb5c5"
      },
      "execution_count": 1,
      "outputs": [
        {
          "output_type": "stream",
          "name": "stdout",
          "text": [
            "3\n",
            "1 0\n",
            "Error Code: integer division or modulo by zero\n",
            "2 $\n",
            "Error Code: invalid literal for int() with base 10: '$'\n",
            "3 1\n",
            "3\n"
          ]
        }
      ]
    }
  ]
}