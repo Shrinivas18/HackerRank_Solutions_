{
  "nbformat": 4,
  "nbformat_minor": 0,
  "metadata": {
    "colab": {
      "provenance": [],
      "authorship_tag": "ABX9TyMme9MaZBMmG7CW/qOxne/k",
      "include_colab_link": true
    },
    "kernelspec": {
      "name": "python3",
      "display_name": "Python 3"
    },
    "language_info": {
      "name": "python"
    }
  },
  "cells": [
    {
      "cell_type": "markdown",
      "metadata": {
        "id": "view-in-github",
        "colab_type": "text"
      },
      "source": [
        "<a href=\"https://colab.research.google.com/github/Shrinivas18/HackerRank_Solutions_/blob/main/Regex_Substitution.ipynb\" target=\"_parent\"><img src=\"https://colab.research.google.com/assets/colab-badge.svg\" alt=\"Open In Colab\"/></a>"
      ]
    },
    {
      "cell_type": "markdown",
      "source": [
        "**PROBLEM** :\n",
        "You are given a text of N lines. The text contains && and || symbols.\n",
        "Your task is to modify those symbols to the following:\n",
        "\n",
        "&& → and\n",
        "\n",
        "|| → or \n",
        "\n",
        "Both && and || should have a space \" \" on both sides.\n"
      ],
      "metadata": {
        "id": "_ArP0gXALW3L"
      }
    },
    {
      "cell_type": "code",
      "source": [
        "import re\n",
        "\n",
        "ii = int(input())\n",
        "\n",
        "for i in range(0,ii):\n",
        "   txt = input()\n",
        "   txt = re.sub(r\"\\ \\&\\&\\ \",\" and \",txt)\n",
        "   txt = re.sub(r\"\\ \\|\\|\\ \",\" or \",txt)\n",
        "   txt = re.sub(r\"\\ \\&\\&\\ \",\" and \",txt)\n",
        "   txt = re.sub(r\"\\ \\|\\|\\ \",\" or \",txt)\n",
        "   print(txt)"
      ],
      "metadata": {
        "colab": {
          "base_uri": "https://localhost:8080/"
        },
        "id": "b5h2c9qqllSo",
        "outputId": "6bfdaa59-6b63-4e9b-a1dd-345820d252ee"
      },
      "execution_count": 10,
      "outputs": [
        {
          "output_type": "stream",
          "name": "stdout",
          "text": [
            "11\n",
            "a=1\n",
            "a=1\n",
            "b=input();\n",
            "b=input();\n",
            "if a+b > 0 && a-b <0:\n",
            "if a+b > 0 and a-b <0:\n",
            "start()\n",
            "start()\n",
            "elif a*b>10 || a/b <1:\n",
            "elif a*b>10 or a/b <1:\n",
            "stop()\n",
            "stop()\n",
            "print set(list(a)) | set (list(b))\n",
            "print set(list(a)) | set (list(b))\n",
            "#Note do not change &&& or ||| or & or |\n",
            "#Note do not change &&& or ||| or & or |\n",
            "#Only change those '&&' which have space on both sides.\n",
            "#Only change those '&&' which have space on both sides.\n",
            "#Only change those '|| which have space on both sides.\n",
            "#Only change those '|| which have space on both sides.\n",
            "stop()\n",
            "stop()\n"
          ]
        }
      ]
    },
    {
      "cell_type": "code",
      "source": [
        "11\n",
        "a = 1;\n",
        "b = input();\n",
        "\n",
        "if a + b > 0 && a - b < 0:\n",
        "    start()\n",
        "elif a*b > 10 || a/b < 1:\n",
        "    stop()\n",
        "print set(list(a)) | set(list(b)) \n",
        "#Note do not change &&& or ||| or & or |\n",
        "#Only change those '&&' which have space on both sides.\n",
        "#Only change those '|| which have space on both sides."
      ],
      "metadata": {
        "id": "ZmmZbyvSUjKY"
      },
      "execution_count": null,
      "outputs": []
    }
  ]
}