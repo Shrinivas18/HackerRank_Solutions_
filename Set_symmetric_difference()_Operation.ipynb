{
  "nbformat": 4,
  "nbformat_minor": 0,
  "metadata": {
    "colab": {
      "provenance": [],
      "authorship_tag": "ABX9TyPUPyDRf/7pyGkmUXleZhsP",
      "include_colab_link": true
    },
    "kernelspec": {
      "name": "python3",
      "display_name": "Python 3"
    },
    "language_info": {
      "name": "python"
    }
  },
  "cells": [
    {
      "cell_type": "markdown",
      "metadata": {
        "id": "view-in-github",
        "colab_type": "text"
      },
      "source": [
        "<a href=\"https://colab.research.google.com/github/Shrinivas18/HackerRank_Solutions_/blob/main/Set_symmetric_difference()_Operation.ipynb\" target=\"_parent\"><img src=\"https://colab.research.google.com/assets/colab-badge.svg\" alt=\"Open In Colab\"/></a>"
      ]
    },
    {
      "cell_type": "code",
      "source": [
        "# Set .symmetric_difference() Operation\n",
        "\n",
        "# .symmetric_difference()\n",
        "# The .symmetric_difference() operator returns a set with all the elements that are in the set and the iterable but not both.\n",
        "# Sometimes, a ^ operator is used in place of the .symmetric_difference() tool, but it only operates on the set of elements in set.\n",
        "# The set is immutable to the .symmetric_difference() operation (or ^ operation).\n",
        "\n",
        "# >>> s = set(\"Hacker\")\n",
        "# >>> print s.symmetric_difference(\"Rank\")\n",
        "# set(['c', 'e', 'H', 'n', 'R', 'r'])\n",
        "\n",
        "# >>> print s.symmetric_difference(set(['R', 'a', 'n', 'k']))\n",
        "# set(['c', 'e', 'H', 'n', 'R', 'r'])\n",
        "\n",
        "# >>> print s.symmetric_difference(['R', 'a', 'n', 'k'])\n",
        "# set(['c', 'e', 'H', 'n', 'R', 'r'])\n",
        "\n",
        "# >>> print s.symmetric_difference(enumerate(['R', 'a', 'n', 'k']))\n",
        "# set(['a', 'c', 'e', 'H', (0, 'R'), 'r', (2, 'n'), 'k', (1, 'a'), (3, 'k')])\n",
        "\n",
        "# >>> print s.symmetric_difference({\"Rank\":1})\n",
        "# set(['a', 'c', 'e', 'H', 'k', 'Rank', 'r'])\n",
        "\n",
        "# >>> s ^ set(\"Rank\")\n",
        "# set(['c', 'e', 'H', 'n', 'R', 'r'])\n",
        "\n",
        "# Task\n",
        "# Students of District College have subscriptions to English and French newspapers. Some students have subscribed to English only, some\n",
        "# have subscribed to French only, and some have subscribed to both newspapers.\n",
        "# You are given two sets of student roll numbers. One set has subscribed to the English newspaper, and one set has subscribed to the\n",
        "# French newspaper. Your task is to find the total number of students who have subscribed to either the English or the French newspaper\n",
        "# but not both.\n",
        "\n",
        "# Input Format\n",
        "# The first line contains the number of students who have subscribed to the English newspaper. \n",
        "# The second line contains the space separated list of student roll numbers who have subscribed to the English newspaper.\n",
        "# The third line contains the number of students who have subscribed to the French newspaper. \n",
        "# The fourth line contains the space separated list of student roll numbers who have subscribed to the French newspaper.\n",
        "\n",
        "# Constraints\n",
        "# 0 < Total number of students in college < 1000\n",
        "\n",
        "# Output Format\n",
        "# Output total number of students who have subscriptions to the English or the French newspaper but not both.\n",
        "\n",
        "\n",
        "# Enter your code here. Read input from STDIN. Print output to STDOUT\n",
        "a = int(input())\n",
        "b = input().split()\n",
        "b = list(map(int, b))\n",
        "c = int(input())\n",
        "d = input().split()\n",
        "d = list(map(int, d))\n",
        "\n",
        "print(len(set(b).symmetric_difference(set(d))))"
      ],
      "metadata": {
        "colab": {
          "base_uri": "https://localhost:8080/"
        },
        "id": "b5h2c9qqllSo",
        "outputId": "6a01565f-23ea-4881-cf8c-265f924ed92a"
      },
      "execution_count": 41,
      "outputs": [
        {
          "output_type": "stream",
          "name": "stdout",
          "text": [
            "9\n",
            "1 2 3 4 5 6 7 8 9\n",
            "9\n",
            "10 1 2 3 11 21 55 6 8\n",
            "8\n"
          ]
        }
      ]
    }
  ]
}