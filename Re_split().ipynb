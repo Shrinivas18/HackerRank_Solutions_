{
  "nbformat": 4,
  "nbformat_minor": 0,
  "metadata": {
    "colab": {
      "provenance": [],
      "authorship_tag": "ABX9TyNfcCA+DwZCOE6s1/nHEZcT",
      "include_colab_link": true
    },
    "kernelspec": {
      "name": "python3",
      "display_name": "Python 3"
    },
    "language_info": {
      "name": "python"
    }
  },
  "cells": [
    {
      "cell_type": "markdown",
      "metadata": {
        "id": "view-in-github",
        "colab_type": "text"
      },
      "source": [
        "<a href=\"https://colab.research.google.com/github/Shrinivas18/HackerRank_Solutions_/blob/main/Re_split().ipynb\" target=\"_parent\"><img src=\"https://colab.research.google.com/assets/colab-badge.svg\" alt=\"Open In Colab\"/></a>"
      ]
    },
    {
      "cell_type": "markdown",
      "source": [
        "***PROBLEM***\n",
        "\n",
        "\n",
        "This tool returns successive r length permutations of elements in an iterable.\n",
        "\n",
        "If r is not specified or is None, then r defaults to the length of the iterable, and all possible full length permutations are generated.\n",
        "\n",
        "Permutations are printed in a lexicographic sorted order. So, if the input iterable is sorted, the permutation tuples will be produced in a sorted order.\n",
        "\n",
        "Sample Code\n",
        "\n",
        ">>> from itertools import permutations\n",
        ">>> print permutations(['1','2','3'])\n",
        "<itertools.permutations object at 0x02A45210>\n",
        ">>> \n",
        ">>> print list(permutations(['1','2','3']))\n",
        "[('1', '2', '3'), ('1', '3', '2'), ('2', '1', '3'), ('2', '3', '1'), ('3', '1', '2'), ('3', '2', '1')]\n",
        ">>> \n",
        ">>> print list(permutations(['1','2','3'],2))\n",
        "[('1', '2'), ('1', '3'), ('2', '1'), ('2', '3'), ('3', '1'), ('3', '2')]\n",
        ">>>\n",
        ">>> print list(permutations('abc',3))\n",
        "[('a', 'b', 'c'), ('a', 'c', 'b'), ('b', 'a', 'c'), ('b', 'c', 'a'), ('c', 'a', 'b'), ('c', 'b', 'a')]\n",
        "Task\n",
        "You are given a string S.\n",
        "\n",
        "Your task is to print all possible permutations of size k of the string in lexicographic sorted order.\n",
        "\n",
        "Input Format\n",
        "A single line containing the space separated string S and the integer value k.\n",
        "\n",
        "Constraints\n",
        "0 < k <= len(S)\n",
        "The string contains only UPPERCASE characters\n",
        "\n",
        "Output Format\n",
        "Print the permutations of the string S on separate lines\n",
        "\n",
        "Sample Input\n",
        "HACK 2\n",
        "Sample Output\n",
        "AC\n",
        "AH\n",
        "AK\n",
        "CA\n",
        "CH\n",
        "CK\n",
        "HA\n",
        "HC\n",
        "HK\n",
        "KA\n",
        "KC\n",
        "KH\n",
        "Explaination\n",
        "All possible size 2 permutations of the string “HACK” are printed in lexicographic sorted order."
      ],
      "metadata": {
        "id": "WVj-aKNvK9dl"
      }
    },
    {
      "cell_type": "code",
      "source": [
        "from itertools import permutations\n",
        "s,n = input().split()\n",
        "print(*[''.join(i) for i in permutations(sorted(s),int(n))],sep='\\n')\n"
      ],
      "metadata": {
        "colab": {
          "base_uri": "https://localhost:8080/"
        },
        "id": "b5h2c9qqllSo",
        "outputId": "5e214a90-6a4b-4db2-8ec8-7981b0a02f75"
      },
      "execution_count": 20,
      "outputs": [
        {
          "output_type": "stream",
          "name": "stdout",
          "text": [
            "HACK 2\n",
            "AC\n",
            "AH\n",
            "AK\n",
            "CA\n",
            "CH\n",
            "CK\n",
            "HA\n",
            "HC\n",
            "HK\n",
            "KA\n",
            "KC\n",
            "KH\n"
          ]
        }
      ]
    }
  ]
}