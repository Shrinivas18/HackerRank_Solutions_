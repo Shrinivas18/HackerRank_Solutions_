{
  "nbformat": 4,
  "nbformat_minor": 0,
  "metadata": {
    "colab": {
      "provenance": [],
      "authorship_tag": "ABX9TyNV0MwWcs7t6adW4ZwRgX08",
      "include_colab_link": true
    },
    "kernelspec": {
      "name": "python3",
      "display_name": "Python 3"
    },
    "language_info": {
      "name": "python"
    }
  },
  "cells": [
    {
      "cell_type": "markdown",
      "metadata": {
        "id": "view-in-github",
        "colab_type": "text"
      },
      "source": [
        "<a href=\"https://colab.research.google.com/github/Shrinivas18/HackerRank_Solutions_/blob/main/Re_split().ipynb\" target=\"_parent\"><img src=\"https://colab.research.google.com/assets/colab-badge.svg\" alt=\"Open In Colab\"/></a>"
      ]
    },
    {
      "cell_type": "markdown",
      "source": [
        "***PROBLEM***\n",
        "\n",
        "\n",
        "re.split()\n",
        "The re.split() expression splits the string by occurrence of a pattern.\n",
        "\n",
        ">>> import re\n",
        ">>> re.split(r\"-\",\"+91-011-2711-1111\")\n",
        "['+91', '011', '2711', '1111']\n",
        "\n",
        "You are given a string s consisting only of digits 0-9, commas ,, and dots .\n",
        "Your task is to complete the regex_pattern defined below, which will be used to re.split() all of the , and . symbols in s.\n",
        "It’s guaranteed that every comma and every dot in s is preceeded and followed by a digit.\n",
        "\n",
        "\n",
        "Sample Input :\n",
        "100,000,000.000\n",
        "\n",
        "Sample Output :\n",
        "100\n",
        "000\n",
        "000\n",
        "000"
      ],
      "metadata": {
        "id": "WVj-aKNvK9dl"
      }
    },
    {
      "cell_type": "code",
      "source": [
        "regex_pattern = r\"[.,]+\"\n",
        "\n",
        "import re\n",
        "print(\"\\n\".join(re.split(regex_pattern, input())))"
      ],
      "metadata": {
        "colab": {
          "base_uri": "https://localhost:8080/"
        },
        "id": "b5h2c9qqllSo",
        "outputId": "2b8556d9-9376-45db-b140-673e54a35a2e"
      },
      "execution_count": 19,
      "outputs": [
        {
          "output_type": "stream",
          "name": "stdout",
          "text": [
            "100,000,000.000\n",
            "100\n",
            "000\n",
            "000\n",
            "000\n"
          ]
        }
      ]
    }
  ]
}