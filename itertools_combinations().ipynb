{
  "nbformat": 4,
  "nbformat_minor": 0,
  "metadata": {
    "colab": {
      "provenance": [],
      "authorship_tag": "ABX9TyPFbxaBQzQcXU/VGRqwnyaG",
      "include_colab_link": true
    },
    "kernelspec": {
      "name": "python3",
      "display_name": "Python 3"
    },
    "language_info": {
      "name": "python"
    }
  },
  "cells": [
    {
      "cell_type": "markdown",
      "metadata": {
        "id": "view-in-github",
        "colab_type": "text"
      },
      "source": [
        "<a href=\"https://colab.research.google.com/github/Shrinivas18/HackerRank_Solutions_/blob/main/itertools_combinations().ipynb\" target=\"_parent\"><img src=\"https://colab.research.google.com/assets/colab-badge.svg\" alt=\"Open In Colab\"/></a>"
      ]
    },
    {
      "cell_type": "markdown",
      "source": [
        "***PROBLEM***\n",
        "\n",
        "\n",
        "itertools.combinations(iterable, r)\n",
        "This tool returns the  length subsequences of elements from the input iterable.\n",
        "\n",
        "Combinations are emitted in lexicographic sorted order. So, if the input iterable is sorted, the combination tuples will be produced in sorted order.\n",
        "\n",
        "Sample Code\n",
        "\n",
        ">>> from itertools import combinations\n",
        ">>> \n",
        ">>> print list(combinations('12345',2))\n",
        "[('1', '2'), ('1', '3'), ('1', '4'), ('1', '5'), ('2', '3'), ('2', '4'), ('2', '5'), ('3', '4'), ('3', '5'), ('4', '5')]\n",
        ">>> \n",
        ">>> A = [1,1,3,3,3]\n",
        ">>> print list(combinations(A,4))\n",
        "[(1, 1, 3, 3), (1, 1, 3, 3), (1, 1, 3, 3), (1, 3, 3, 3), (1, 3, 3, 3)]\n",
        "\n",
        "Task :    \n",
        "\n",
        "You are given a string S.\n",
        "Your task is to print all possible combinations, up to size k, of the string in lexicographic sorted order.\n",
        "\n",
        "Input Format :      \n",
        "\n",
        "A single line containing the string S and integer value k separated by a space.\n",
        "\n",
        "Constraints :    \n",
        "\n",
        "0 < k < len(S)\n",
        "The string contains only UPPERCASE characters.\n",
        "\n",
        "Output Format :     \n",
        "\n",
        "Print the different combinations of string S on separate lines.\n",
        "\n",
        "Sample Input\n",
        "\n",
        "HACK 2\n",
        "\n",
        "Sample Output :     \n",
        "\n",
        "A\n",
        "\n",
        "C \n",
        "\n",
        "H\n",
        "\n",
        "K\n",
        "\n",
        "AC\n",
        "\n",
        "AH\n",
        "\n",
        "AK\n",
        "\n",
        "CH\n",
        "\n",
        "CK\n",
        "\n",
        "HK\n",
        "\n",
        "\n"
      ],
      "metadata": {
        "id": "WVj-aKNvK9dl"
      }
    },
    {
      "cell_type": "code",
      "source": [
        "from itertools import combinations\n",
        "\n",
        "s , n  = input().split()\n",
        "\n",
        "for i in range(1, int(n)+1):\n",
        "    for j in combinations(sorted(s), i):\n",
        "        print(''.join(j))"
      ],
      "metadata": {
        "colab": {
          "base_uri": "https://localhost:8080/"
        },
        "id": "b5h2c9qqllSo",
        "outputId": "f902d24b-1ddb-4be1-8fb1-56af6146c462"
      },
      "execution_count": 1,
      "outputs": [
        {
          "output_type": "stream",
          "name": "stdout",
          "text": [
            "HACK 2\n",
            "A\n",
            "C\n",
            "H\n",
            "K\n",
            "AC\n",
            "AH\n",
            "AK\n",
            "CH\n",
            "CK\n",
            "HK\n"
          ]
        }
      ]
    }
  ]
}