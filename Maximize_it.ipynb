{
  "nbformat": 4,
  "nbformat_minor": 0,
  "metadata": {
    "colab": {
      "provenance": [],
      "authorship_tag": "ABX9TyOjpny4IPVT0Q32zev53NqE",
      "include_colab_link": true
    },
    "kernelspec": {
      "name": "python3",
      "display_name": "Python 3"
    },
    "language_info": {
      "name": "python"
    }
  },
  "cells": [
    {
      "cell_type": "markdown",
      "metadata": {
        "id": "view-in-github",
        "colab_type": "text"
      },
      "source": [
        "<a href=\"https://colab.research.google.com/github/Shrinivas18/HackerRank_Solutions_/blob/main/Maximize_it.ipynb\" target=\"_parent\"><img src=\"https://colab.research.google.com/assets/colab-badge.svg\" alt=\"Open In Colab\"/></a>"
      ]
    },
    {
      "cell_type": "markdown",
      "source": [
        "***PROBLEM*** :\n",
        "\n",
        "You are given a function f(X) = X2. You are also given K lists. The ith list consists of Ni elements.\n",
        "You have to pick one element from each list so that the value from the equation below is maximized:\n",
        "S = (f(X1) + f(X2) +....+ f(Xk)) % M\n",
        "Xi denotes the element picked from the ith list. Find the maximized value Smax obtained.\n",
        "% denotes the modulo operator.\n",
        "\n",
        "Note that you need to take exactly one element from each list, not necessarily the largest element. You add the squares of the chosen elements and perform the modulo operation. The maximum value that you can obtain, will be the answer to the problem.\n",
        "\n",
        "Input Format:\n",
        "\n",
        "The first line contains 2 space-separated integers K and M.\n",
        "The next K lines each contain an integer Ni, denoting the number of elements in the ith list, followed by Ni space-separated integers denoting the elements in the list.\n",
        "\n",
        "Constraints:\n",
        "\n",
        "1 <= K <= 7\n",
        "1 <= M <= 1000\n",
        "1 <= Ni <= 7\n",
        "1 <= Magnitude of elements in list <= 109\n",
        "\n",
        "Output Format:\n",
        "\n",
        "Output a single integer denoting the value Smax.\n",
        "\n",
        "Sample Input:\n",
        "\n",
        "bash\n",
        "\n",
        "3 1000\n",
        "2 5 4\n",
        "3 7 8 9 \n",
        "5 5 7 8 9 10 \n",
        "Sample output:\n",
        "\n",
        "bash\n",
        "\n",
        "206\n",
        "\n",
        "Explanation:\n",
        "\n",
        "Picking 5 from the 1st list, 9 from the 2nd list, and 10 from the 3rd list gives the maximum S value equal to (52 + 92 + 102 ) % 1000 = 206."
      ],
      "metadata": {
        "id": "O-eKXuZ2iqIO"
      }
    },
    {
      "cell_type": "code",
      "source": [
        "from itertools import product\n",
        "\n",
        "K,M = map(int,input().split())\n",
        "N = (list(map(int, input().split()))[1:] for _ in range(K))\n",
        "results = map(lambda x: sum(i**2 for i in x)%M, product(*N))\n",
        "print(max(results))\n"
      ],
      "metadata": {
        "colab": {
          "base_uri": "https://localhost:8080/"
        },
        "id": "b5h2c9qqllSo",
        "outputId": "9b5aa97c-8652-4e7f-94d8-998610649c18"
      },
      "execution_count": 5,
      "outputs": [
        {
          "output_type": "stream",
          "name": "stdout",
          "text": [
            "3 1000\n",
            "2 5 4\n",
            "3 7 8 9\n",
            "5 5 7 8 9 10\n",
            "206\n"
          ]
        }
      ]
    }
  ]
}