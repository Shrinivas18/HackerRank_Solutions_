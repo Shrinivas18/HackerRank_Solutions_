{
  "nbformat": 4,
  "nbformat_minor": 0,
  "metadata": {
    "colab": {
      "provenance": [],
      "authorship_tag": "ABX9TyPPiuFSf361G/gFJwQqP7cK",
      "include_colab_link": true
    },
    "kernelspec": {
      "name": "python3",
      "display_name": "Python 3"
    },
    "language_info": {
      "name": "python"
    }
  },
  "cells": [
    {
      "cell_type": "markdown",
      "metadata": {
        "id": "view-in-github",
        "colab_type": "text"
      },
      "source": [
        "<a href=\"https://colab.research.google.com/github/Shrinivas18/HackerRank_Solutions_/blob/main/Zipped.ipynb\" target=\"_parent\"><img src=\"https://colab.research.google.com/assets/colab-badge.svg\" alt=\"Open In Colab\"/></a>"
      ]
    },
    {
      "cell_type": "markdown",
      "source": [
        "**PROBLEM**\n",
        "\n",
        "zip([iterable, ...])\n",
        "This function returns a list of tuples. The i th tuple contains the i th element from each of the argument sequences or iterables.\n",
        "If the argument sequences are of unequal lengths, then the returned list is truncated to the length of the shortest argument sequence.\n",
        "\n",
        "Sample Code :\n",
        ">>> print zip([1,2,3,4,5,6],'Hacker')\n",
        "[(1, 'H'), (2, 'a'), (3, 'c'), (4, 'k'), (5, 'e'), (6, 'r')]\n",
        ">>> \n",
        ">>> print zip([1,2,3,4,5,6],[0,9,8,7,6,5,4,3,2,1])\n",
        "[(1, 0), (2, 9), (3, 8), (4, 7), (5, 6), (6, 5)]\n",
        ">>> \n",
        ">>> A = [1,2,3]\n",
        ">>> B = [6,5,4]\n",
        ">>> C = [7,8,9]\n",
        ">>> X = [A] + [B] + [C]\n",
        ">>> \n",
        ">>> print zip(*X)\n",
        "[(1, 6, 7), (2, 5, 8), (3, 4, 9)]\n",
        "\n",
        "Task :\n",
        "The National University conducts an examination of  N students in X subjects.\n",
        "Your task is to compute the average scores of each student.\n",
        "\n",
        "Zipped in python - Hacker Rank Solution\n",
        "fig : Zipped in python - Hacker Rank Solution\n",
        "\n",
        "The format for the general mark sheet is:\n",
        "Student ID → ___1_____2_____3_____4_____5__               \n",
        "Subject 1   |  89    90    78    93    80\n",
        "Subject 2   |  90    91    85    88    86  \n",
        "Subject 3   |  91    92    83    89    90.5\n",
        "            |______________________________\n",
        "Average        90    91    82    90    85.5 \n",
        "\n",
        "\n",
        "Input Format :\n",
        "The first line contains N and X separated by a space.\n",
        "The next X lines contains the space separated marks obtained by students in a particular subject.\n",
        "\n",
        "Constraints :\n",
        "0 < N <= 100\n",
        "0 < X <= 100\n",
        "\n",
        "Output Format :\n",
        "Print the averages of all students on separate lines.\n",
        "The averages must be correct up to 1 decimal place.\n",
        "\n",
        "\n",
        "Sample Input :\n",
        "5 3\n",
        "89 90 78 93 80\n",
        "90 91 85 88 86  \n",
        "91 92 83 89 90.5\n",
        "\n",
        "Sample Output :\n",
        "90.0 \n",
        "91.0 \n",
        "82.0 \n",
        "90.0 \n",
        "85.5  \n",
        "\n",
        "Explanation :\n",
        "\n",
        "\n",
        "Marks obtained by student 1: 89 90 91\n",
        "Average marks of student 1:\n",
        "270 / 3 = 90.0\n",
        "Marks obtained by student 2: 90 91 92\n",
        "Average marks of student 2:\n",
        "273 / 3 = 91.0\n",
        "Marks obtained by student 3: 78 85 83\n",
        "Average marks of student 3:\n",
        "246 / 3 = 82.0\n",
        "Marks obtained by student 4: 93 88 89\n",
        "Average marks of student 4:\n",
        "270 / 3 = 90.0\n",
        "Marks obtained by student 5: 80 86 90.5\n",
        "Average marks of student 5:\n",
        "256.5 / 3 = 85.5\n",
        "\n"
      ],
      "metadata": {
        "id": "_ArP0gXALW3L"
      }
    },
    {
      "cell_type": "code",
      "source": [
        "N, X = input().split()\n",
        "\n",
        "io = list()\n",
        "\n",
        "for _ in range(int(X)):\n",
        "    ip = map(float, input().split())\n",
        "    io.append(ip)\n",
        "\n",
        "for i in zip(*io): \n",
        "    print(sum(i)/len(i))"
      ],
      "metadata": {
        "colab": {
          "base_uri": "https://localhost:8080/"
        },
        "id": "b5h2c9qqllSo",
        "outputId": "c9db9571-820d-471d-cb60-0e66c8d6d2de"
      },
      "execution_count": 3,
      "outputs": [
        {
          "output_type": "stream",
          "name": "stdout",
          "text": [
            "5 3\n",
            "89 90 78 93 80\n",
            "90 91 85 88 86\n",
            "91 92 83 89 90.5\n",
            "90.0\n",
            "91.0\n",
            "82.0\n",
            "90.0\n",
            "85.5\n"
          ]
        }
      ]
    }
  ]
}