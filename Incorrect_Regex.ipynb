{
  "nbformat": 4,
  "nbformat_minor": 0,
  "metadata": {
    "colab": {
      "provenance": [],
      "authorship_tag": "ABX9TyPp7BSfzP4acfwovupgsLYy",
      "include_colab_link": true
    },
    "kernelspec": {
      "name": "python3",
      "display_name": "Python 3"
    },
    "language_info": {
      "name": "python"
    }
  },
  "cells": [
    {
      "cell_type": "markdown",
      "metadata": {
        "id": "view-in-github",
        "colab_type": "text"
      },
      "source": [
        "<a href=\"https://colab.research.google.com/github/Shrinivas18/HackerRank_Solutions_/blob/main/Incorrect_Regex.ipynb\" target=\"_parent\"><img src=\"https://colab.research.google.com/assets/colab-badge.svg\" alt=\"Open In Colab\"/></a>"
      ]
    },
    {
      "cell_type": "markdown",
      "source": [
        "***PROBLEM*** :\n",
        "\n",
        "You are given a string S.\n",
        "Your task is to find out whether S is a valid regex or not.\n",
        "\n",
        "Input Format:\n",
        "\n",
        "The first line contains integer T, the number of test cases.\n",
        "The next T lines contains the string S.\n",
        "\n",
        "Constraints:\n",
        "\n",
        "0 < T < 100\n",
        "\n",
        "Output Format:\n",
        "\n",
        "Print \"True\" or \"False\" for each test case without quotes.\n",
        "\n",
        "Sample Input:\n",
        "\n",
        "2\n",
        "\n",
        ".*\\+\n",
        "\n",
        ".*+\n",
        "\n",
        "Sample Output:\n",
        "\n",
        "True\n",
        "\n",
        "False\n",
        "\n",
        "Explanation:\n",
        "\n",
        ".*\\+ : Valid regex.\n",
        ".*+: Has the error multiple repeat. Hence, it is invalid."
      ],
      "metadata": {
        "id": "O-eKXuZ2iqIO"
      }
    },
    {
      "cell_type": "code",
      "source": [
        "import re\n",
        "for _ in range(int(input())):\n",
        "    ans = True\n",
        "    try:\n",
        "        reg = re.compile(input())\n",
        "    except re.error:\n",
        "        ans = False\n",
        "    print(ans)"
      ],
      "metadata": {
        "colab": {
          "base_uri": "https://localhost:8080/"
        },
        "id": "b5h2c9qqllSo",
        "outputId": "258c5564-9cb5-4dc8-8ddd-1767afc8907e"
      },
      "execution_count": 2,
      "outputs": [
        {
          "output_type": "stream",
          "name": "stdout",
          "text": [
            "2\n",
            ".*\\+\n",
            "True\n",
            ".*+\n",
            "False\n"
          ]
        }
      ]
    },
    {
      "cell_type": "code",
      "source": [],
      "metadata": {
        "id": "9GTs4JMdgZ9o"
      },
      "execution_count": null,
      "outputs": []
    }
  ]
}