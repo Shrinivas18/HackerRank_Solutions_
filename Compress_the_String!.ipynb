{
  "nbformat": 4,
  "nbformat_minor": 0,
  "metadata": {
    "colab": {
      "provenance": [],
      "authorship_tag": "ABX9TyPVTf6KDfLVftJIAXRPPRR1",
      "include_colab_link": true
    },
    "kernelspec": {
      "name": "python3",
      "display_name": "Python 3"
    },
    "language_info": {
      "name": "python"
    }
  },
  "cells": [
    {
      "cell_type": "markdown",
      "metadata": {
        "id": "view-in-github",
        "colab_type": "text"
      },
      "source": [
        "<a href=\"https://colab.research.google.com/github/Shrinivas18/HackerRank_Solutions_/blob/main/Compress_the_String!.ipynb\" target=\"_parent\"><img src=\"https://colab.research.google.com/assets/colab-badge.svg\" alt=\"Open In Colab\"/></a>"
      ]
    },
    {
      "cell_type": "markdown",
      "source": [
        "***PROBLEM*** :\n",
        "\n",
        "In this task, we would like for you to appreciate the usefulness of the groupby() function of itertools. You are given a string  S. Suppose a character C occurs consecutively X times in the string. Replace these consecutive occurrences of the character C with (X, C) in the string.\n",
        "\n",
        "For a better understanding of the problem, check the explanation.\n",
        "\n",
        "Input Format\n",
        "\n",
        "A single line of input consisting of the string S.\n",
        "\n",
        "Output Format\n",
        "A single line of output consisting of the modified string.\n",
        "\n",
        "Constraints\n",
        "\n",
        "All the characters of S denotes integers between 0  and 9.\n",
        "\n",
        "1 <= | S | <= 10^4\n",
        "\n",
        "Sample input:\n",
        "\n",
        "python\n",
        "\n",
        "1222311\n",
        "Sample output:\n",
        "\n",
        "bash\n",
        "\n",
        "(1, 1) (3, 2) (1, 3) (2, 1)\n",
        "First, character 1 occurs only once. It is replaced by (1, 1). Then the 2 character occurs three times, and it is replaced by (3, 2)  and so on.\n",
        "\n",
        "Also, note the single space within each compression and between the compressions.\n",
        "\n"
      ],
      "metadata": {
        "id": "O-eKXuZ2iqIO"
      }
    },
    {
      "cell_type": "code",
      "source": [
        "from itertools import groupby\n",
        "for key, group in groupby(input()):\n",
        "   print('({}, {})'.format(len(list(group)), key), end=\" \")\n"
      ],
      "metadata": {
        "colab": {
          "base_uri": "https://localhost:8080/"
        },
        "id": "b5h2c9qqllSo",
        "outputId": "9bde177c-2915-4b1b-9c2e-b6e9f8e690c9"
      },
      "execution_count": 3,
      "outputs": [
        {
          "output_type": "stream",
          "name": "stdout",
          "text": [
            "1222311\n",
            "(1, 1) (3, 2) (1, 3) (2, 1) "
          ]
        }
      ]
    }
  ]
}