{
  "nbformat": 4,
  "nbformat_minor": 0,
  "metadata": {
    "colab": {
      "provenance": [],
      "authorship_tag": "ABX9TyNZJDlqkS975Yiz4E2sPRtM",
      "include_colab_link": true
    },
    "kernelspec": {
      "name": "python3",
      "display_name": "Python 3"
    },
    "language_info": {
      "name": "python"
    }
  },
  "cells": [
    {
      "cell_type": "markdown",
      "metadata": {
        "id": "view-in-github",
        "colab_type": "text"
      },
      "source": [
        "<a href=\"https://colab.research.google.com/github/Shrinivas18/HackerRank_Solutions_/blob/main/Validating_Phone_Numbers.ipynb\" target=\"_parent\"><img src=\"https://colab.research.google.com/assets/colab-badge.svg\" alt=\"Open In Colab\"/></a>"
      ]
    },
    {
      "cell_type": "markdown",
      "source": [
        "**PROBLEM** :\n",
        "\n",
        "Let's dive into the interesting topic of regular expressions! You are given some input, and you are required to check whether they are valid mobile numbers.\n",
        "A valid mobile number is a ten digit number starting with a 7, 8 or 9.\n",
        "\n",
        "Concept :\n",
        "A valid mobile number is a ten digit number starting with a 7, 8 or 9.\n",
        "Regular expressions are a key concept in any programming language. A quick explanation with Python examples is available here. You could also go through the link below to read more about regular expressions in Python.\n",
        "https://developers.google.com/edu/python/regular-expressions"
      ],
      "metadata": {
        "id": "_ArP0gXALW3L"
      }
    },
    {
      "cell_type": "code",
      "source": [
        "import re\n",
        "\n",
        "N = int(input())\n",
        "\n",
        "for i in range(N):\n",
        "    number = input()\n",
        "    if(len(number)==10 and number.isdigit()):\n",
        "        output = re.findall(r\"^[789]\\d{9}$\",number)\n",
        "        if(len(output)==1):\n",
        "            print(\"YES\")\n",
        "        else:\n",
        "            print(\"NO\")\n",
        "    else:\n",
        "        print(\"NO\")"
      ],
      "metadata": {
        "colab": {
          "base_uri": "https://localhost:8080/"
        },
        "id": "b5h2c9qqllSo",
        "outputId": "430b6782-2af1-499a-f74a-65bdf2c631ce"
      },
      "execution_count": 2,
      "outputs": [
        {
          "output_type": "stream",
          "name": "stdout",
          "text": [
            "2\n",
            "9587456281\n",
            "YES\n",
            "1252478965\n",
            "NO\n"
          ]
        }
      ]
    }
  ]
}