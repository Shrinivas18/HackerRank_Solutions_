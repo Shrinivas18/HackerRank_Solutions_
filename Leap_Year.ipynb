{
  "nbformat": 4,
  "nbformat_minor": 0,
  "metadata": {
    "colab": {
      "provenance": [],
      "authorship_tag": "ABX9TyMHtUfQMUrqzs+nJrGTGyLH",
      "include_colab_link": true
    },
    "kernelspec": {
      "name": "python3",
      "display_name": "Python 3"
    },
    "language_info": {
      "name": "python"
    }
  },
  "cells": [
    {
      "cell_type": "markdown",
      "metadata": {
        "id": "view-in-github",
        "colab_type": "text"
      },
      "source": [
        "<a href=\"https://colab.research.google.com/github/Shrinivas18/HackerRank_Solutions_/blob/main/Leap_Year.ipynb\" target=\"_parent\"><img src=\"https://colab.research.google.com/assets/colab-badge.svg\" alt=\"Open In Colab\"/></a>"
      ]
    },
    {
      "cell_type": "markdown",
      "source": [
        "**PROBLEM :**"
      ],
      "metadata": {
        "id": "pZw_yB_IlgUP"
      }
    },
    {
      "cell_type": "markdown",
      "source": [
        "Kevin and Stuart want to play the 'The Minion Game'.\n",
        "\n",
        "Game Rules\n",
        "\n",
        "Both players are given the same string,S .\n",
        "Both players have to make substrings using the letters of the string S.\n",
        "Stuart has to make words starting with consonants.\n",
        "Kevin has to make words starting with vowels.\n",
        "The game ends when both players have made all possible substrings.\n",
        "\n",
        "Scoring\n",
        "A player gets +1 point for each occurrence of the substring in the string S.\n",
        "\n",
        "For Example:\n",
        "String S = BANANA\n",
        "Kevin's vowel beginning word = ANA\n",
        "Here, ANA occurs twice in BANANA. Hence, Kevin will get 2 Points.\n",
        "\n",
        "Your task is to determine the winner of the game and their score.\n",
        "\n",
        "Function Description\n",
        "\n",
        "Complete the minion_game in the editor below.\n",
        "\n",
        "minion_game has the following parameters:\n",
        "\n",
        "string string: the string to analyze\n",
        "Prints\n",
        "\n",
        "string: the winner's name and score, separated by a space on one line, or Draw if there is no winner"
      ],
      "metadata": {
        "id": "vZW5GQ8fmRyb"
      }
    },
    {
      "cell_type": "code",
      "source": [
        "def minion_game(string):\n",
        "    vowels = 'AEIOU'\n",
        "    Stuart_score, Kevin_score = 0, 0\n",
        "    length = len(string)\n",
        "    for start_idx in range(length):\n",
        "        score = length - start_idx\n",
        "        if string[start_idx] in vowels:\n",
        "            Kevin_score += score\n",
        "        else:\n",
        "            Stuart_score += score\n",
        "    if Stuart_score == Kevin_score:\n",
        "        print('Draw')\n",
        "    if Stuart_score > Kevin_score:\n",
        "        print('Stuart {}'.format(Stuart_score))\n",
        "    if Stuart_score < Kevin_score:\n",
        "        print('Kevin {}'.format(Kevin_score))\n",
        "    \n",
        "\n",
        "if __name__ == '__main__':\n",
        "    s = input()\n",
        "    minion_game(s)"
      ],
      "metadata": {
        "colab": {
          "base_uri": "https://localhost:8080/"
        },
        "id": "b5h2c9qqllSo",
        "outputId": "d7e3168e-6805-4832-8359-f04962891f91"
      },
      "execution_count": 4,
      "outputs": [
        {
          "output_type": "stream",
          "name": "stdout",
          "text": [
            "5\n",
            "Stuart 1\n"
          ]
        }
      ]
    }
  ]
}