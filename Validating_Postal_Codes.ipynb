{
  "nbformat": 4,
  "nbformat_minor": 0,
  "metadata": {
    "colab": {
      "provenance": [],
      "authorship_tag": "ABX9TyMnfBsaLDh6175VzQhAYJmz",
      "include_colab_link": true
    },
    "kernelspec": {
      "name": "python3",
      "display_name": "Python 3"
    },
    "language_info": {
      "name": "python"
    }
  },
  "cells": [
    {
      "cell_type": "markdown",
      "metadata": {
        "id": "view-in-github",
        "colab_type": "text"
      },
      "source": [
        "<a href=\"https://colab.research.google.com/github/Shrinivas18/HackerRank_Solutions_/blob/main/Validating_Postal_Codes.ipynb\" target=\"_parent\"><img src=\"https://colab.research.google.com/assets/colab-badge.svg\" alt=\"Open In Colab\"/></a>"
      ]
    },
    {
      "cell_type": "markdown",
      "source": [
        "**PROBLEM** :\n",
        "\n",
        "\n",
        "A valid postal code P have to fullfil both below requirements:\n",
        "P must be a number in the range from 100000 to 999999 inclusive.\n",
        "P must not contain more than one alternating repetitive digit pair.\n",
        "Alternating repetitive digits are digits which repeat immediately after the next digit. In other words, an alternating repetitive digit pair is formed by two equal digits that have just a single digit between them.\n",
        "For example:\n",
        "121426 # Here, 1 is an alternating repetitive digit.\n",
        "523563 # Here, NO digit is an alternating repetitive digit.\n",
        "552523 # Here, both 2 and 5 are alternating repetitive digits.\n",
        "\n",
        "Your task is to provide two regular expressions regex_integer_in_range and regex_alternating_repetitive_digit_pair. Where:\n",
        "regex_integer_in_range should match only integers range from 100000 to 999999 inclusive\n",
        "regex_alternating_repetitive_digit_pair should find alternating repetitive digits pairs in a given string.\n",
        "Both these regular expressions will be used by the provided code template to check if the input string P is a valid postal code using the following expression:\n",
        "(bool(re.match(regex_integer_in_range, P)) \n",
        "and len(re.findall(regex_alternating_repetitive_digit_pair, P)) < 2)\n",
        " \n",
        "\n",
        "Input Format :\n",
        "Locked stub code in the editor reads a single string denoting P from stdin and uses provided expression and your regular expressions to validate if P is a valid postal code. \n",
        "\n",
        "Output Format :\n",
        "You are not responsible for printing anything to stdout. Locked stub code in the editor does that.\n",
        "\n",
        "\n",
        "Sample Input :\n",
        "110000\n",
        " \n",
        "Sample Output :\n",
        "False\n",
        " \n",
        "Explanation :\n",
        "1 1 0000 : (0, 0) and (0, 0) are two alternating digit pairs. Hence, it is an invalid postal code.\n",
        "Note:\n",
        "A score of 0 will be awarded for using 'if' conditions in your code.\n",
        "You have to pass all the testcases to get a positive score. "
      ],
      "metadata": {
        "id": "_ArP0gXALW3L"
      }
    },
    {
      "cell_type": "code",
      "source": [
        "regex_integer_in_range = r\"^[1-9][\\d]{5}$\"    # Do not delete 'r'.\n",
        "regex_alternating_repetitive_digit_pair = r\"(\\d)(?=\\d\\1)\"    # Do not delete 'r'.\n",
        "\n",
        "import re\n",
        "P = input()\n",
        "\n",
        "print (bool(re.match(regex_integer_in_range, P)) \n",
        "and len(re.findall(regex_alternating_repetitive_digit_pair, P)) < 2)"
      ],
      "metadata": {
        "colab": {
          "base_uri": "https://localhost:8080/"
        },
        "id": "b5h2c9qqllSo",
        "outputId": "6defa9c6-998f-4521-fbae-98f7cdc27ab2"
      },
      "execution_count": 4,
      "outputs": [
        {
          "output_type": "stream",
          "name": "stdout",
          "text": [
            "110000\n",
            "False\n"
          ]
        }
      ]
    }
  ]
}