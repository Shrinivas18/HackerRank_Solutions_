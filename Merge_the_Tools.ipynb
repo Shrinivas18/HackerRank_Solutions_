{
  "nbformat": 4,
  "nbformat_minor": 0,
  "metadata": {
    "colab": {
      "provenance": [],
      "authorship_tag": "ABX9TyOYJOjlccytJ12jRa1vlLJF",
      "include_colab_link": true
    },
    "kernelspec": {
      "name": "python3",
      "display_name": "Python 3"
    },
    "language_info": {
      "name": "python"
    }
  },
  "cells": [
    {
      "cell_type": "markdown",
      "metadata": {
        "id": "view-in-github",
        "colab_type": "text"
      },
      "source": [
        "<a href=\"https://colab.research.google.com/github/Shrinivas18/HackerRank_Solutions_/blob/main/Merge_the_Tools.ipynb\" target=\"_parent\"><img src=\"https://colab.research.google.com/assets/colab-badge.svg\" alt=\"Open In Colab\"/></a>"
      ]
    },
    {
      "cell_type": "markdown",
      "source": [
        "***PROBLEM*** :\n",
        "\n",
        "Consider the following:\n",
        "\n",
        "A string, s, of length n where s = c0c1. . . . cn-1.\n",
        "\n",
        "An integer, k, where k is a factor of n.\n",
        "\n",
        "We can split s into n/k substrings where each subtring, ti, consists of a contiguous block of k characters in s. Then, use each ti to create string ui such that:\n",
        "\n",
        "The characters in ui are a subsequence of the characters in ti.\n",
        "\n",
        "Any repeat occurrence of a character is removed from the string such that each character in ui occurs exactly once. In other words, if the character at some index j in ti occurs at a previous index < j in ti, then do not include the character in string ui.\n",
        "\n",
        "Given s and k, print n/k lines where each line i denotes string UI.\n",
        "\n",
        "Example:\n",
        "\n",
        "s = “AAABCADDE”\n",
        "\n",
        "k = 3\n",
        "\n",
        "There are three substrings of length 3 to consider: ‘AAA’, ‘BCA’ and ‘DDE’. The first substring is all ‘A’ characters, so u1 = ‘A’. The second substring has all distinct characters, so u2 = ‘BCA’. The third substring has 2 different characters, so u3 = ‘DE’. Note that a subsequence maintains the original order of characters encountered. The order of characters in each subsequence shown is important.\n",
        "\n",
        "Function Description\n",
        "\n",
        "Complete the merge_the_tools function in the editor below.\n",
        "\n",
        "merge_the_tools has the following parameters:\n",
        "\n",
        "string s: the string to analyze\n",
        "int k: the size of substrings to analyze\n",
        "Prints\n",
        "\n",
        "Print each subsequence on a new line. There will be n/k of them. No return value is expected.\n",
        "\n",
        "Input Format:\n",
        "\n",
        "The first line contains a single string, s.\n",
        "\n",
        "The second line contains an integer, k, the length of each substring.\n",
        "\n",
        "Constraints:\n",
        "\n",
        "1 <= n <= 10^4, where n is the length of s\n",
        "1 <= k <= n \n",
        "It is guaranteed that n is a multiple of k.\n",
        "\n",
        "Sample Input:\n",
        "\n",
        "bash\n",
        "\n",
        "STDIN       Function\n",
        "-----       --------\n",
        "AABCAAADA   s = 'AABCAAADA'\n",
        "3           k = 3\n",
        "\n",
        "Sample Output:\n",
        "\n",
        "bash\n",
        "\n",
        "AB\n",
        "CA\n",
        "AD\n",
        "\n",
        "Explanation:\n",
        "\n",
        "Split s into n/k = 9/3 = 3 equal parts of length k = 3. Convert each ti to ui by removing any subsequent occurrences of non-distinct characters in ti:\n",
        "\n",
        "t0 = “AAB” – u0 = “AB”\n",
        "t1 = “CAA” – u1 = “CA”\n",
        "t2 = “ADA” – u2 = “AD”\n",
        "Print each ui on a new line."
      ],
      "metadata": {
        "id": "O-eKXuZ2iqIO"
      }
    },
    {
      "cell_type": "code",
      "source": [
        "def merge_the_tools(string, k):\n",
        "    # your code goes here\n",
        "    for part in zip(*[iter(string)] * k):\n",
        "        d = dict()\n",
        "        print(''.join([ d.setdefault(c, c) for c in part if c not in d ]))\n",
        "\n",
        "if __name__ == '__main__':\n",
        "    string, k = input(), int(input())\n",
        "    merge_the_tools(string, k)"
      ],
      "metadata": {
        "colab": {
          "base_uri": "https://localhost:8080/"
        },
        "id": "b5h2c9qqllSo",
        "outputId": "776e1526-1bea-4e92-84dd-7e945b6d3407"
      },
      "execution_count": 21,
      "outputs": [
        {
          "output_type": "stream",
          "name": "stdout",
          "text": [
            "AABCAAADA\n",
            "3\n",
            "AB\n",
            "CA\n",
            "AD\n"
          ]
        }
      ]
    }
  ]
}