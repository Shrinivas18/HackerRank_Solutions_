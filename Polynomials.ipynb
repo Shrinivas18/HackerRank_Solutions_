{
  "nbformat": 4,
  "nbformat_minor": 0,
  "metadata": {
    "colab": {
      "provenance": [],
      "authorship_tag": "ABX9TyPiU1xE1TRFLHIaGjrRgocN",
      "include_colab_link": true
    },
    "kernelspec": {
      "name": "python3",
      "display_name": "Python 3"
    },
    "language_info": {
      "name": "python"
    }
  },
  "cells": [
    {
      "cell_type": "markdown",
      "metadata": {
        "id": "view-in-github",
        "colab_type": "text"
      },
      "source": [
        "<a href=\"https://colab.research.google.com/github/Shrinivas18/HackerRank_Solutions_/blob/main/Polynomials.ipynb\" target=\"_parent\"><img src=\"https://colab.research.google.com/assets/colab-badge.svg\" alt=\"Open In Colab\"/></a>"
      ]
    },
    {
      "cell_type": "markdown",
      "source": [
        "poly\n",
        "\n",
        "The poly tool returns the coefficients of a polynomial with the given sequence of roots.\n",
        "\n",
        "print numpy.poly([-1, 1, 1, 10])        #Output : [  1 -11   9  11 -10]\n",
        "roots\n",
        "\n",
        "The roots tool returns the roots of a polynomial with the given coefficients.\n",
        "\n",
        "print numpy.roots([1, 0, -1])           #Output : [-1.  1.]\n",
        "\n",
        "\n",
        "polyint\n",
        "\n",
        "The polyint tool returns an antiderivative (indefinite integral) of a polynomial.\n",
        "\n",
        "print numpy.polyint([1, 1, 1])          #Output : [ 0.33333333  0.5         1.          0.        ]\n",
        "\n",
        "\n",
        "polyder\n",
        "\n",
        "The polyder tool returns the derivative of the specified order of a polynomial.\n",
        "\n",
        "print numpy.polyder([1, 1, 1, 1])       #Output : [3 2 1]\n",
        "\n",
        "\n",
        "polyval\n",
        "\n",
        "The polyval tool evaluates the polynomial at specific value.\n",
        "\n",
        "print numpy.polyval([1, -2, 0, 2], 4)   #Output : 34\n",
        "\n",
        "\n",
        "polyfit\n",
        "\n",
        "The polyfit tool fits a polynomial of a specified order to a set of data using a least-squares approach.\n",
        "\n",
        "print numpy.polyfit([0,1,-1, 2, -2], [0,1,1, 4, 4], 2)\n",
        "#Output : [  1.00000000e+00   0.00000000e+00  -3.97205465e-16]\n",
        "The functions polyadd, polysub, polymul, and polydiv also handle proper addition, subtraction, multiplication, and division of polynomial coefficients, respectively.\n",
        "\n",
        "\n",
        "Task\n",
        "\n",
        "You are given the coefficients of a polynomial P.\n",
        "Your task is to find the value of P at point x.\n",
        "\n",
        "\n",
        "Input Format\n",
        "\n",
        "The first line contains the space separated value of the coefficients in P.\n",
        "The second line contains the value of x.\n",
        "\n",
        "\n",
        "Output Format\n",
        "\n",
        "Print the desired value.\n",
        "\n",
        "\n"
      ],
      "metadata": {
        "id": "_ArP0gXALW3L"
      }
    },
    {
      "cell_type": "code",
      "source": [
        "import numpy\n",
        "n = list(map(float,input().split()));\n",
        "m = input();\n",
        "print(numpy.polyval(n,int(m)));"
      ],
      "metadata": {
        "colab": {
          "base_uri": "https://localhost:8080/"
        },
        "id": "b5h2c9qqllSo",
        "outputId": "92f70449-005f-4222-fcff-b2fbfafce61e"
      },
      "execution_count": 15,
      "outputs": [
        {
          "output_type": "stream",
          "name": "stdout",
          "text": [
            "1.1 2 3\n",
            "0\n",
            "3.0\n"
          ]
        }
      ]
    }
  ]
}