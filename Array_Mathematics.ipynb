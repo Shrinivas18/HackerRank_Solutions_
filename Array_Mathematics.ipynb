{
  "nbformat": 4,
  "nbformat_minor": 0,
  "metadata": {
    "colab": {
      "provenance": [],
      "authorship_tag": "ABX9TyPpE9OgpEgJGBCAh7jpoV+k",
      "include_colab_link": true
    },
    "kernelspec": {
      "name": "python3",
      "display_name": "Python 3"
    },
    "language_info": {
      "name": "python"
    }
  },
  "cells": [
    {
      "cell_type": "markdown",
      "metadata": {
        "id": "view-in-github",
        "colab_type": "text"
      },
      "source": [
        "<a href=\"https://colab.research.google.com/github/Shrinivas18/HackerRank_Solutions_/blob/main/Array_Mathematics.ipynb\" target=\"_parent\"><img src=\"https://colab.research.google.com/assets/colab-badge.svg\" alt=\"Open In Colab\"/></a>"
      ]
    },
    {
      "cell_type": "markdown",
      "source": [
        "**PROBLEM**\n",
        "\n",
        "\n",
        "Basic mathematical functions operate element-wise on arrays. They are available both as operator overloads and as functions in the NumPy module.\n",
        "import numpy\n",
        "\n",
        "a = numpy.array([1,2,3,4], float)\n",
        "b = numpy.array([5,6,7,8], float)\n",
        "\n",
        "print a + b                     #[  6.   8.  10.  12.]\n",
        "print numpy.add(a, b)           #[  6.   8.  10.  12.]\n",
        "\n",
        "print a - b                     #[-4. -4. -4. -4.]\n",
        "print numpy.subtract(a, b)      #[-4. -4. -4. -4.]\n",
        "\n",
        "print a * b                     #[  5.  12.  21.  32.]\n",
        "print numpy.multiply(a, b)      #[  5.  12.  21.  32.]\n",
        "\n",
        "print a / b                     #[ 0.2         0.33333333  0.42857143  0.5       ]\n",
        "print numpy.divide(a, b)        #[ 0.2         0.33333333  0.42857143  0.5       ]\n",
        "\n",
        "print a % b                     #[ 1.  2.  3.  4.]\n",
        "print numpy.mod(a, b)           #[ 1.  2.  3.  4.]\n",
        "\n",
        "print a**b                      #[  1.00000000e+00   6.40000000e+01   2.18700000e+03   6.55360000e+04]\n",
        "print numpy.power(a, b)         #[  1.00000000e+00   6.40000000e+01   2.18700000e+03   6.55360000e+04]\n",
        " \n",
        "Task :\n",
        "You are given two integer arrays, A and B of dimensions NXM.\n",
        "Your task is to perform the following operations:\n",
        "Add ( A + B)\n",
        "Subtract ( A - B)\n",
        "Multiply ( A * B)\n",
        "Integer Division (A / B)\n",
        "Mod (A % B)\n",
        "Power (A ** B)\n",
        "\n",
        "\n",
        "Input Format :\n",
        "The first line contains two space separated integers, N and M.\n",
        "The next N lines contains M space separated integers of array A.\n",
        "The following N lines contains M space separated integers of array B.\n",
        " \n",
        "Output Format :\n",
        "Print the result of each operation in the given order under Task.\n",
        "\n",
        "\n",
        "Sample Input :\n",
        "1 4\n",
        "1 2 3 4\n",
        "5 6 7 8\n",
        " \n",
        "Sample Output :\n",
        "[[ 6  8 10 12]]\n",
        "[[-4 -4 -4 -4]]\n",
        "[[ 5 12 21 32]]\n",
        "[[0 0 0 0]]\n",
        "[[1 2 3 4]]\n",
        "[[    1    64  2187 65536]] \n",
        " \n",
        "Use // for division in Python 3."
      ],
      "metadata": {
        "id": "_ArP0gXALW3L"
      }
    },
    {
      "cell_type": "code",
      "source": [
        "import numpy\n",
        "\n",
        "N, M = map(int, input().split())\n",
        "\n",
        "A = numpy.array([list(map(int, input().split())) for n in range(N)])\n",
        "B = numpy.array([list(map(int, input().split())) for n in range(N)])\n",
        "\n",
        "print(A + B)\n",
        "print(A - B)\n",
        "print(A * B)\n",
        "print(A // B)\n",
        "print(A % B)\n",
        "print(A ** B)"
      ],
      "metadata": {
        "colab": {
          "base_uri": "https://localhost:8080/"
        },
        "id": "b5h2c9qqllSo",
        "outputId": "1794483e-e962-407c-d938-b99abedcf535"
      },
      "execution_count": 6,
      "outputs": [
        {
          "output_type": "stream",
          "name": "stdout",
          "text": [
            "1 4\n",
            "1 2 3 4\n",
            "5 6 7 8\n",
            "[[ 6  8 10 12]]\n",
            "[[-4 -4 -4 -4]]\n",
            "[[ 5 12 21 32]]\n",
            "[[0 0 0 0]]\n",
            "[[1 2 3 4]]\n",
            "[[    1    64  2187 65536]]\n"
          ]
        }
      ]
    }
  ]
}